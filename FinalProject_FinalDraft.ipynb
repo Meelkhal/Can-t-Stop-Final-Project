{
  "cells": [
    {
      "cell_type": "markdown",
      "metadata": {
        "id": "KZsIga4Tpp8Q"
      },
      "source": [
        "# Final assignment project math 6181\n",
        "## By: Mujtaba and Matthew\n",
        "We start as always, with our general imports"
      ]
    },
    {
      "cell_type": "code",
      "execution_count": null,
      "metadata": {
        "id": "TCq470RNpsUW",
        "colab": {
          "base_uri": "https://localhost:8080/"
        },
        "outputId": "d520d7ba-1fd6-48d2-bfb0-ce1d52ff97d6"
      },
      "outputs": [
        {
          "output_type": "stream",
          "name": "stderr",
          "text": [
            "WARNING:absl:No GPU/TPU found, falling back to CPU. (Set TF_CPP_MIN_LOG_LEVEL=0 and rerun for more info.)\n"
          ]
        }
      ],
      "source": [
        "import jax\n",
        "import jax.numpy as jnp\n",
        "from jax import random as jrandom\n",
        "from jax import nn as jnn\n",
        "from jax import jit\n",
        "import numpy as np\n",
        "import random\n",
        "import time\n",
        "import sys\n",
        "from matplotlib import pyplot as plt # plotting\n",
        "import cantStopCode # cant stop game as made by prof (thank you)\n"
      ]
    },
    {
      "cell_type": "markdown",
      "metadata": {
        "id": "lnHKbDYK0uwQ"
      },
      "source": [
        "Below is some global variables that appear throughout the code."
      ]
    },
    {
      "cell_type": "code",
      "execution_count": null,
      "metadata": {
        "id": "O1MvQZAB0uMw"
      },
      "outputs": [],
      "source": [
        "key = jrandom.PRNGKey(0) # this is the random seed. \n",
        "THETA = jrandom.exponential(key, shape=(12,))\n",
        "THETA = THETA.at[-1].set(20) #"
      ]
    },
    {
      "cell_type": "markdown",
      "source": [
        "# Incase things run weirdly\n",
        "We found that sometimes, all out AI's would start reporting 0/10 wins. If this is the case its probably because the third aiDecision function ( the one with the argmax ) wasnt run and the code is using the method that randomly chooses. If so just rerun the correct aiDecision function and everything should work well. This comes from all the functions having the same name ( this allowed for code to be reused and explicitly showed how our work changed over time, but also lead to headaches as to which functions were used and saved sometimes ). "
      ],
      "metadata": {
        "id": "CDhz8fnZNrab"
      }
    },
    {
      "cell_type": "markdown",
      "metadata": {
        "id": "mb7plec2qnao"
      },
      "source": [
        "# Describing the problem"
      ]
    },
    {
      "cell_type": "markdown",
      "metadata": {
        "id": "XOi1gZnvqT71"
      },
      "source": [
        "\n",
        "To do this, we first need to describe the game of Can't Stop.\n",
        "## Can't Stop\n",
        "Consider the game of Can't Stop. This is a board game made back in 1981 and is a game where a group of players use their analysis of risk and suspeptibility to gambling to see who can first fill a certain number of columns by rolling two dice. In specific the rules of Can't Stop are as follows: <br>\n",
        "\n",
        "- There are 10 columns, each labelled sequentially from $2$ to $12$. <br>\n",
        "\n",
        "- Each column has a length corresponding sequentially as $\\{3,5,7,9,11,13,11,9,7,5,3\\}$, as shown [here](https://upload.wikimedia.org/wikipedia/en/0/04/CantStop-sm.png). <br>\n",
        "\n",
        "- Each player takes turns one at a time. <br>\n",
        "\n",
        "- On their turn, a player rolls four dice. They then choose to pair off the four dice into two sums. For example if the dice yield the numbers $\\{6,5,4,2\\}$ then the following sets of sums can be chosen: $\\{(11,6), (10,7). (8,9)\\}$. <br>\n",
        "\n",
        "- A player must choose a set of sums which corresponds to their 'runners'. Runners are pieces that represent valid sum values. Each player can only have 3 runners. After selecting a sum that is valid for a runner, that runner is moved up one place in a column. If the player has no runners out, then they are placed to make a set of chosen sums valid and if no sums available are valid, then the player busts.  <br>\n",
        "\n",
        "- When a player busts their turn ends and all runners are removed from the board. <br>\n",
        "\n",
        "- After choosing a valid set of sums, the player has the choice to stop rolling. This turns all runners into saved progress along a column. <br>\n",
        "\n",
        "- If a players saved progress in a column is equal to the length of the column they 'socre' the column. The first player to score 5 columns wins. <br>\n",
        "\n",
        "This game is relatively simple, being one where players must understand basic probability rules along with the board state to make smart decisions. However this simple game has a considerable number of strategies. For example; one may notice that the '2' and '12' columns only require 3 values to completed. While these sums occur with low likeyhood it may be a valid strategy to invest in these columns over others. On the other hand, a player may realize that 7 is the most common result and attempt to have a runner in 7 no matter what. While these are two very different strategies, both seem very valid. This begs the question of \"What is the optimal way to play\". <br>\n",
        "As per the course, our problem is finding a way to optimally play can't stop.\n"
      ]
    },
    {
      "cell_type": "markdown",
      "metadata": {
        "id": "zT1C0I1yqpcE"
      },
      "source": [
        "## Optimal player\n",
        "To start, we need to define what an \"optimal player\" is. Optimal whose meaning is subjective. It may seem 'optimal' to always minimize the risk of busting in every scenario. However, this naive idea has an issue when we consider the length of columns. Since the safest options have the longest columns to progress through, a player only playing safely will lose against a player that takes some risk. As such a simple 'classical' optimization of the probabilities is not desired. Instead, our definition of optimal is very simple. Thus our definition of optimal is: <br>\n",
        "### An optimal player is one that wins against the largest variety of opponents most of the time. <br>\n"
      ]
    },
    {
      "cell_type": "markdown",
      "metadata": {
        "id": "bMB9b2J2rDcD"
      },
      "source": [
        "# Trying the 'standard' method\n",
        "\n"
      ]
    },
    {
      "cell_type": "markdown",
      "metadata": {
        "id": "hF2qnJ20sqDs"
      },
      "source": [
        "\n",
        "### Computing the state space\n",
        "To start we will only consider a two-player game. In reality, the data found from the two-player game could easily be used to generate a competent multiplayer game, but to simplify the problem from a computational standpoint let's only consider a game with two players. <br>\n",
        "This makes the state space much simpler, as we do not need to consider whose turn it is. Instead, we can construct a state space where we are always the player playing and allow the 'enemy' to use the same state space, but with roles reversed. This brings the question of \"how do we represent the game\". Well, when one player is playing the player has the following information: \n",
        "- The progress of the player in each column.\n",
        "- The location/progress of their runners.  \n",
        "- The options of sums to take. \n",
        "- The progress of the enemy in each column. \n",
        "<br>\n",
        "\n",
        "This is all the information present to a player during their turn. Now to represent the information. Since this game has been simulated via a python code, the choice of representation is somewhat forced. To start, the progress of each player can be represented by a numpy shape (11,) vector. Each entry is an integer representing the distance a player is from finishing. Since this is a two-player game, we require two (11,) shape vectors. The progress and location of the runners can be similarly recorded by a numpy shape (11,) whose integer entries represent the amount each runner has gone in each column. To denote the choice of columns a value of 0 just means a player has no runner in this column.  <br>\n",
        "While this seems fine, we have found a bit of an issue. The methods used in class require a player to somehow traverse the state space, somehow learning the validity of actions (which is a bit more of a complicated interaction we will describe later). Thus we must ask ourselves, how big is the state space.\n",
        "Well, each player vector can be represented by 3 ways in the first column, 5 ways in the second etc etc... this gives an upper estimate of $3^25^27^29^211^213 = 1404728325$ possibilities. Now since our state space was so simply constructed, we can use an upper estimate on the total size of the state space by taking three of these vectors. Considering them to be independent (technically the runner one is not but... we are looking at an upper bound so its fine) we get an upper bound on the size of the state space to be $1404728325^3 = 2.7718966e+27$. This is an insane size for a state space. While this is an upper estimate, even if only 0.01% of these states are even attainable or valid, the game has too many states. Instead, we will tackle this problem by using machine learning to tailor an AI as a player. This can be done, but we need to better understand how people play this game.  "
      ]
    },
    {
      "cell_type": "markdown",
      "metadata": {
        "id": "SxwP4HVOrh8h"
      },
      "source": [
        "## Trying a 'novel' method\n",
        "To actually simulate more complicated AIs a variety of strategies must be considered. These strategies stem from basic interactions in the design of the game. For example, risky players are intinsically trying to use the skewed column lengths to their advantage, while conservative players with to use the probability distribution of two dice to their advantage. There are a few other interations that exist and can be implemented into our strategies. For example a could try to _snake_ an opponents column by completing it just as they closeto completion. In general these strategies will be called \"behaviours\" and we somehow need a way to represent these behaviours. To start we will quantify risky behaviour in a seemingly roundabout way.\n"
      ]
    },
    {
      "cell_type": "markdown",
      "metadata": {
        "id": "Dh1mQ9O6rs1l"
      },
      "source": [
        "# Trying to understand how players play\n",
        "\n",
        "\n"
      ]
    },
    {
      "cell_type": "markdown",
      "metadata": {
        "id": "ZBE4vKo7tS_j"
      },
      "source": [
        "Logically the preference for a certain sum should be directly connected to its probability to occur. Provided we have no information about the board, we would naturally find the most probable sums to be the most preferred. To see the most probable sums, a simple computer simulation can be run. This is done below. <br>"
      ]
    },
    {
      "cell_type": "code",
      "execution_count": null,
      "metadata": {
        "colab": {
          "base_uri": "https://localhost:8080/",
          "height": 54
        },
        "id": "eU2ttdKsrwwL",
        "outputId": "bab53865-1a2e-464c-ce99-3e5cfbffc46a"
      },
      "outputs": [
        {
          "output_type": "display_data",
          "data": {
            "text/plain": [
              "<Figure size 432x288 with 1 Axes>"
            ],
            "image/png": "[encoded data removed]"
          },
          "metadata": {
            "needs_background": "light"
          }
        }
      ],
      "source": [
        "def roll2():\n",
        "  a = random.randint(1,6)\n",
        "  b = random.randint(1,6)\n",
        "  return(a+b-2)\n",
        "iterations = 1000000\n",
        "allRolls = np.array([0,0,0,0,0,0,0,0,0,0,0])\n",
        "for i in range(iterations):\n",
        "  allRolls[roll2()] += 1.0\n",
        "allRolls = allRolls*(1/iterations)\n",
        "fig = plt.figure()\n",
        "ax = fig.add_axes([0,0,1,1])\n",
        "vals = ['2','3','4','5','6','7','8','9','10','11','12']\n",
        "ax.bar(vals,allRolls)\n",
        "plt.show()\n"
      ]
    },
    {
      "cell_type": "markdown",
      "metadata": {
        "id": "AmxTgyxEsaBB"
      },
      "source": [
        "## More information\n",
        "As mentioend earlier Can't Stop keeps the game somewhat interesting by having variable lengths to each column. That is to say the 7 column needs 13 successful rolls to complete while the 2 column only needs 3. This skewed length naturally attempt to use the fact that the 2 and 12 columns in Can't Stop are incredibly short. This skewed length should be weighed in by our optimal player, but what makes a choice of 2 more desirable then a choice of 7. Consider if our player _chooses_ that they like 6 twice as much than 7, 5 twice as much as 6 etc etc etc. This person is simply taking this 'optimal' distribution and changing it by a weighting vector of: \n",
        "$$[16,8,4,2,\\frac{1}{2},\\frac{1}{4},\\frac{1}{2},2,4,8,16]$$\n",
        "Applying this scaling factor is done in the code below, and it provides a skewed distribution that represents a more _riskier_ play style. \n"
      ]
    },
    {
      "cell_type": "code",
      "execution_count": null,
      "metadata": {
        "colab": {
          "base_uri": "https://localhost:8080/",
          "height": 54
        },
        "id": "ZxXpLY2Jtx45",
        "outputId": "8b5005c8-f89a-40b4-af8b-9e67991d8354"
      },
      "outputs": [
        {
          "output_type": "display_data",
          "data": {
            "text/plain": [
              "<Figure size 432x288 with 1 Axes>"
            ],
            "image/png": "[encoded data removed]"
          },
          "metadata": {
            "needs_background": "light"
          }
        }
      ],
      "source": [
        "# Add in a risky weighting\n",
        "weights = np.array([16,8,4,2,1/2,1/4,1/2,2,4,8,16])\n",
        "newRolls = np.multiply(allRolls,weights)\n",
        "norm = np.linalg.norm(newRolls)\n",
        "fig = plt.figure()\n",
        "ax = fig.add_axes([0,0,1,1])\n",
        "vals = ['2','3','4','5','6','7','8','9','10','11','12']\n",
        "ax.bar(vals,newRolls/norm)\n",
        "plt.show()\n"
      ]
    },
    {
      "cell_type": "markdown",
      "metadata": {
        "id": "rQVhuR0st00v"
      },
      "source": [
        "## Another simple strategy\n",
        "Consider if someone instead values stability and notices that, while nearly 5 times as long, a 7 occurs nearly 8 times that of a 2. This would give them a desire to instead choose the more 'safe' options. Again arbtirarily using 'twice as desired' as our metric, we obtain the following _desire distribution_. "
      ]
    },
    {
      "cell_type": "code",
      "execution_count": null,
      "metadata": {
        "colab": {
          "base_uri": "https://localhost:8080/",
          "height": 54
        },
        "id": "7LAAjWYJvTT7",
        "outputId": "933d5ea1-668a-49d7-bbcc-1a0b0fb323b7"
      },
      "outputs": [
        {
          "output_type": "display_data",
          "data": {
            "text/plain": [
              "<Figure size 432x288 with 1 Axes>"
            ],
            "image/png": "[encoded data removed]"
          },
          "metadata": {
            "needs_background": "light"
          }
        }
      ],
      "source": [
        "# Add in a conservative weighting\n",
        "weights2 = np.array([1/4,1/2,2,4,8,16,8,4,2,1/2,1/4])\n",
        "newRolls = np.multiply(allRolls,weights2)\n",
        "norm = np.linalg.norm(newRolls)\n",
        "fig = plt.figure()\n",
        "ax = fig.add_axes([0,0,1,1])\n",
        "vals = ['2','3','4','5','6','7','8','9','10','11','12']\n",
        "ax.bar(vals,newRolls/norm)\n",
        "plt.show()"
      ]
    },
    {
      "cell_type": "markdown",
      "metadata": {
        "id": "9eT2EWSivV7n"
      },
      "source": [
        "## Viability\n",
        "It seems that both strategies are equally viable, and it is hard to see which would win over a large number of games. Of course, this is mainly due to the two players basically playing in their own columns. \n",
        "## The importance of the visualization\n",
        "While this does not seem to intuitively help, as both naive strategies seem equally valid, the act of visualization gives us the ability to model a player. A player can be nearly completely modelled by this distribution, which we will call a behavior profile $\\mathcal{B}_P$. We are importantly missing what makes a player stop.\n"
      ]
    },
    {
      "cell_type": "markdown",
      "metadata": {
        "id": "SAzoqymNwU2k"
      },
      "source": [
        "## When does a player stop\n",
        "Consider what would make a player satisfied with their turn. There are many ways to quantify a 'successful' turn. But since we already have a representation of the players \"wants\" through its behavior profile, consider that a player is successful after enough of its wants are satisfied. This is actually quantifiable since the behavior profile is supposed to show a players wants. If we sum the wants satisfied by every action in a turn we can quantify the 'player satisfaction' as a number $S$. Once the player's satisfaction has hit some threshold, then they should stop their turn. Representing a successful turn this way is very alluring as calculating probabilities is never directly done and their calculations are imagined to be a relatively difficult both computationally and conceptually. With all of these considered, we can produce the following 'pseudo code' for a player.\n",
        "```python\n",
        "set: satisfyThreshold, behaviourProf\n",
        "  while playerSatisfaction < satisfyThreshold:\n",
        "    rollDice()\n",
        "    getOptions()\n",
        "    scoredOptions()\n",
        "    action = max(scoredOptions)\n",
        "    satisfyVal += options[action]\n",
        "```\n"
      ]
    },
    {
      "cell_type": "markdown",
      "metadata": {
        "id": "uwVb_GMEybQ3"
      },
      "source": [
        "# Coding the novel AI\n"
      ]
    },
    {
      "cell_type": "markdown",
      "metadata": {
        "id": "IEPsCY70tQsr"
      },
      "source": [
        "This type of method has not been done in course. It is most similar to the policy gradient method, but due since we have a deterministic policy it requires us to develop some critic function to score and change the player over games. Again, since the critic function will never change, this is not like the actor-critic method (and is why it will later fail). <br>\n",
        "To start, we take the previous pseudo code and turn it into a deterministic function.\n"
      ]
    },
    {
      "cell_type": "code",
      "execution_count": null,
      "metadata": {
        "id": "gFqIYqcvy_lI"
      },
      "outputs": [],
      "source": [
        "# Our deterministic actor\n",
        "def aiDecision(active_player_index, player_col_state, choices, legal, random_key, theta = THETA, PLAYER_COL_STATE_INIT=jnp.array([3,5,7,9,11,13,11,9,7,5,3])):\n",
        "  # Inputs:\n",
        "  # active_player_index, player_col_state, choices, legal, random_key defined as in the library\n",
        "  # theta = An np array of size (12,) with theta[0:11] being its preferences and theta[10] being its satisfy value\n",
        "  # Outputs:\n",
        "  # choice_index; an integer represetning the chosen option\n",
        "  # roll_again; a bollean; representing if the player ends its turn\n",
        "  scoredOptions = (choices @ theta[0:11]) # scores our current options\n",
        "  choice_index = jnp.argmax(legal*scoredOptions) # chooses best option that maximizes score \n",
        "  roll_again = theta[11] > scoredOptions[choice_index] # sees if it is satisfied enough before rolling again\n",
        "  return choice_index, roll_again"
      ]
    },
    {
      "cell_type": "markdown",
      "metadata": {
        "id": "1wY1WkDLzAiw"
      },
      "source": [
        "## Code comments:\n",
        "Note; so that it is easy to play against other AI's we include the same parameters, and also include one new default argument $\\theta$. $\\theta$'s first 11 arguments represent its behaviour profile, while its final one represents its satisfy threshold. \n"
      ]
    },
    {
      "cell_type": "markdown",
      "metadata": {
        "id": "z8hzFKngzenr"
      },
      "source": [
        "## Having the player score its state\n",
        "To easier take its gradient in the future, we take our scoring mechanism in aiDecision: \n",
        "```python\n",
        "scoredOptions = (choices @ theta[0:11])\n",
        "``` \n",
        "And condense in into a scalar, including the satisfy value through the line:\n",
        "```python\n",
        "playerVal = scoredOptions[chosenOption] - theta[11]\n",
        "```\n",
        "This acts like a value function, though we will call it the playerScore, since it represents the score the player thinks it has. "
      ]
    },
    {
      "cell_type": "code",
      "execution_count": null,
      "metadata": {
        "id": "erUlehbBzeCU"
      },
      "outputs": [],
      "source": [
        "\n",
        "# Our value function\n",
        "def playerScore(active_player_index, player_col_state, choices, legal, random_key, theta = THETA, PLAYER_COL_STATE_INIT=jnp.array([3,5,7,9,11,13,11,9,7,5,3])):\n",
        "  # Inputs:\n",
        "  # active_player_index, player_col_state, choices, legal, random_key defined as in the library\n",
        "  # theta = An np array of size (12,) with theta[0:11] being its preferences and theta[10] being its satisfy value\n",
        "  # Outputs:\n",
        "  # playerScore = a float, represents how good the player thinks the taken action is\n",
        "\n",
        "  # To make the code readable, we explicitly define everything\n",
        "\n",
        "  scoredOptions = choices @ theta[0:11] # scores our current progress\n",
        "  chosenOption = jnp.argmax(legal*scoredOptions)\n",
        "  pScore = scoredOptions[chosenOption] - theta[11] # Finds the chosen scores, to incorporate the satisfy value, we subtract it from the scored option chosen\n",
        "  return pScore"
      ]
    },
    {
      "cell_type": "markdown",
      "metadata": {
        "id": "-sLKkkNp0SAz"
      },
      "source": [
        "### Testing the naive AI\n",
        "Now with the actor and loss function hard coded, we can test to see if it works. <br>\n",
        "This function set will work if we get the expected output from some scenario, and take the gradient. This is done below."
      ]
    },
    {
      "cell_type": "code",
      "execution_count": null,
      "metadata": {
        "colab": {
          "base_uri": "https://localhost:8080/"
        },
        "id": "nt3K4rUG0RMl",
        "outputId": "b6dc6c6e-fefb-49b2-c5fb-950e4b40994b"
      },
      "outputs": [
        {
          "output_type": "stream",
          "name": "stdout",
          "text": [
            "1 False 10.0\n",
            "[ 1.  1.  1.  1.  1.  1.  1.  1.  1.  1.  1. -1.]\n",
            "0 False 3.621297\n",
            "[ 0.88300896  0.13573384  0.6713624   0.72523665  0.34756768  0.33694267\n",
            "  0.6773077   0.01929283  0.41512465  0.1611284   0.24859095 -1.        ]\n",
            "2 True -0.5\n",
            "[ 0.   0.   0.   0.   0.   0.   0.   0.   0.   0.   0.5 -1. ]\n"
          ]
        }
      ],
      "source": [
        "# tests if the hard coded actor and loss function work as expected\n",
        "def test(active_player_index,player_col_state, choices, legal, theta):\n",
        "  choice, roll = aiDecision(active_player_index, player_col_state, choices, legal, key, theta)\n",
        "  pScore = playerScore(active_player_index, player_col_state, choices, legal, key, theta)\n",
        "  print(choice, roll, pScore)\n",
        "\n",
        "  gradVal = jax.grad(playerScore, argnums = 5) # takes derivative with resepct to theta\n",
        "  print(gradVal(active_player_index, player_col_state, choices, legal, key, theta))\n",
        "\n",
        "\n",
        "# Scenario;\n",
        "option1 = jrandom.uniform(key,(11,), minval = 0.0, maxval = 1.0) # okay option\n",
        "option2 = jnp.ones((11,)) # best option\n",
        "option3 = jnp.zeros((11,)) # worst option\n",
        "option3 = option3.at[10].set(0.5) # gives at least some reward for 3\n",
        "choices = jnp.row_stack([option1,option2,option3])\n",
        "theta = jnp.ones((12,)) # all 1's to represent theta\n",
        "active_player_index = 1 \n",
        "player_col_state = jnp.array([[3,5,7,9,11,13,11,9,7,5,3], [2,4,6,8,10,12,10,8,6,4,2]])\n",
        "# In the first case, the second option is best and we are satisfied\n",
        "# Expect:\n",
        "# 1, False, 10\n",
        "# gradient\n",
        "\n",
        "legal = jnp.column_stack([True,True,True])\n",
        "test(active_player_index,player_col_state, choices, legal, theta)\n",
        "\n",
        "# In this the first option is best and we are satisfied\n",
        "# Expect:\n",
        "# 0, False, Given the randomness we cant actually know what pScore should be\n",
        "# gradient \n",
        "\n",
        "choices = jnp.row_stack([option1,option2,option3])\n",
        "legal = jnp.column_stack([True,False,True])\n",
        "test(active_player_index, player_col_state, choices, legal, theta)\n",
        "\n",
        "# In this the third option is best, but we are unsatisfied\n",
        "# Expect:\n",
        "# 2, True, -0.5\n",
        "# gradient \n",
        "\n",
        "choices = jnp.row_stack([option1,option2,option3])\n",
        "legal = jnp.column_stack([False,False,True])\n",
        "test(active_player_index, player_col_state, choices, legal, theta)\n",
        "\n"
      ]
    },
    {
      "cell_type": "markdown",
      "metadata": {
        "id": "5Y0L82Nb0PFE"
      },
      "source": [
        "## Code comments\n",
        "> There are some very odd issues here. Since we are just tacking on the satisfaction value the end via a subtraction, the gradient for our playerScore is always just -1. Honestly this is concerning and needs to be fixed later.\n",
        "\n",
        "> We need to be slightly careful that the behaviour profile doesnt grow unboundedly. This can be fixed by normalizing the distribution after updating it.\n",
        "\n",
        "\n"
      ]
    },
    {
      "cell_type": "markdown",
      "metadata": {
        "id": "Rq2xnSSW0aqd"
      },
      "source": [
        "## An objective scorer\n",
        "To know if the player _actually_ did any better, we need an objective scoring function. This is like the critic in the actor critic set up. For now we will consider the weighted sum of player progress $\\mathcal{P}_{P_i}$ against the enemies progress $\\mathcal{P}_{E_i}$ and the column length $L_{i}$ given as: \n",
        "$$ v(s) = \\sum^n_{i=0} \\frac{L_i - \\mathcal{P}_{P_i} + \\mathcal{P}_{E_i}}{L_i} $$\n",
        "Given how the source code is defined this comes down to: \n",
        "$$ v(s) = \\sum^n_{i=0} \\frac{\\mathcal{E}_{col} - \\mathcal{P}_{col}}{L_i} $$\n",
        "where the col subscripts denote their column values. A function that evaluates this is written below.\n"
      ]
    },
    {
      "cell_type": "code",
      "execution_count": null,
      "metadata": {
        "id": "lvwGRNJ11wfy"
      },
      "outputs": [],
      "source": [
        "# Scores the players state\n",
        "def scoreState(player_col_state, PLAYER_COL_STATE_INIT=jnp.array([3,5,7,9,11,13,11,9,7,5,3])):\n",
        "  # Input:\n",
        "  # player_col_state\n",
        "  # Output:\n",
        "  # score = a floating number, represents how well the player is doing via a weighted sum\n",
        "  peProgress = jnp.subtract(player_col_state[0],player_col_state[1]) # We only need one subtraction here due to how the player col states are stored \n",
        "  score = jnp.sum(jnp.divide(peProgress,PLAYER_COL_STATE_INIT)) # does the weighted sum\n",
        "  return score"
      ]
    },
    {
      "cell_type": "markdown",
      "metadata": {
        "id": "i2dcsr4I5Fx1"
      },
      "source": [
        "## Code comments\n",
        "> This is where we start adopting that our AI will have the active_player_index of 1 whenever we train. "
      ]
    },
    {
      "cell_type": "markdown",
      "metadata": {
        "id": "_DK5m8zp5WWM"
      },
      "source": [
        "## Putting this together to develop a Machine Learning method\n",
        "Let us ground ourselves by recalling what we have so far. We have:\n",
        "- A determinstic actor, whose behaviour is determined by $\\theta$, $\\pi(\\theta,S)$ [$\\pi$ should be probabilistic but I don't have a better symbol] \n",
        "- An actor scoring function, $p(S,\\theta)$, similar to a policy\n",
        "- An objective value function, $v(S)$, like a critic <br>\n",
        "\n",
        "We can now try to update our deterministic actors parameters $\\theta$ by using a weird combination of policy graident and actor-critic. Lets try updating via:\n",
        "$$ \\theta = \\theta + L\\cdot((v(S_t) - v(S_{t-1})) \\cdot \\nabla_{\\theta}(p( S_t, \\theta)) $$ \n",
        "\n",
        "This update function is below. \n",
        "\n"
      ]
    },
    {
      "cell_type": "code",
      "execution_count": 77,
      "metadata": {
        "id": "-6vliRhj73Ly",
        "colab": {
          "base_uri": "https://localhost:8080/",
          "height": 241
        },
        "outputId": "bccf69ba-86d8-4874-cb52-ceda81a56f74"
      },
      "outputs": [
        {
          "output_type": "error",
          "ename": "NameError",
          "evalue": "ignored",
          "traceback": [
            "\u001b[0;31m---------------------------------------------------------------------------\u001b[0m",
            "\u001b[0;31mNameError\u001b[0m                                 Traceback (most recent call last)",
            "\u001b[0;32m<ipython-input-77-bd7bb07ba84d>\u001b[0m in \u001b[0;36m<module>\u001b[0;34m()\u001b[0m\n\u001b[0;32m----> 1\u001b[0;31m \u001b[0mgradOfLoss\u001b[0m \u001b[0;34m=\u001b[0m \u001b[0mjax\u001b[0m\u001b[0;34m.\u001b[0m\u001b[0mgrad\u001b[0m\u001b[0;34m(\u001b[0m\u001b[0mplayerScore\u001b[0m\u001b[0;34m,\u001b[0m \u001b[0margnums\u001b[0m \u001b[0;34m=\u001b[0m \u001b[0;36m5\u001b[0m\u001b[0;34m)\u001b[0m \u001b[0;31m# takes gradient with respect to theta, we do this once to save computation time\u001b[0m\u001b[0;34m\u001b[0m\u001b[0;34m\u001b[0m\u001b[0m\n\u001b[0m\u001b[1;32m      2\u001b[0m \u001b[0mLEARNINGRATE\u001b[0m \u001b[0;34m=\u001b[0m \u001b[0;36m0.2\u001b[0m \u001b[0;31m# we globally define this for now\u001b[0m\u001b[0;34m\u001b[0m\u001b[0;34m\u001b[0m\u001b[0m\n\u001b[1;32m      3\u001b[0m \u001b[0;34m\u001b[0m\u001b[0m\n\u001b[1;32m      4\u001b[0m \u001b[0;32mdef\u001b[0m \u001b[0mchangeTheta\u001b[0m\u001b[0;34m(\u001b[0m\u001b[0mscoreOld\u001b[0m\u001b[0;34m,\u001b[0m \u001b[0mscoreNew\u001b[0m\u001b[0;34m,\u001b[0m \u001b[0mplayerScore\u001b[0m\u001b[0;34m,\u001b[0m \u001b[0mactive_player_index\u001b[0m\u001b[0;34m,\u001b[0m \u001b[0mplayer_col_state\u001b[0m\u001b[0;34m,\u001b[0m \u001b[0mrunner_choices\u001b[0m\u001b[0;34m,\u001b[0m \u001b[0mrunner_legal\u001b[0m\u001b[0;34m,\u001b[0m \u001b[0mkey\u001b[0m\u001b[0;34m,\u001b[0m \u001b[0mtheta\u001b[0m\u001b[0;34m,\u001b[0m \u001b[0mlearningRate\u001b[0m \u001b[0;34m=\u001b[0m \u001b[0mLEARNINGRATE\u001b[0m\u001b[0;34m)\u001b[0m\u001b[0;34m:\u001b[0m\u001b[0;34m\u001b[0m\u001b[0;34m\u001b[0m\u001b[0m\n\u001b[1;32m      5\u001b[0m   \u001b[0mscoreNew\u001b[0m \u001b[0;34m=\u001b[0m \u001b[0mscoreState\u001b[0m\u001b[0;34m(\u001b[0m\u001b[0mplayer_col_state\u001b[0m\u001b[0;34m)\u001b[0m\u001b[0;34m\u001b[0m\u001b[0;34m\u001b[0m\u001b[0m\n",
            "\u001b[0;31mNameError\u001b[0m: name 'playerScore' is not defined"
          ]
        }
      ],
      "source": [
        "gradOfLoss = jax.grad(playerScore, argnums = 5) # takes gradient with respect to theta, we do this once to save computation time\n",
        "LEARNINGRATE = 0.2 # we globally define this for now\n",
        "\n",
        "def changeTheta(scoreOld, scoreNew, playerScore, active_player_index, player_col_state, runner_choices, runner_legal, key, theta, learningRate = LEARNINGRATE):\n",
        "  scoreNew = scoreState(player_col_state) \n",
        "  gradOfLoss = jax.grad(playerScore, argnums = 5) # takes gradient with respect to theta\n",
        "  theta = (theta + learningRate * (scoreNew - scoreOld)*gradOfLoss(active_player_index, player_col_state, runner_choices, runner_legal, key, theta)) # see earlier formula\n",
        "  return(theta)\n"
      ]
    },
    {
      "cell_type": "markdown",
      "metadata": {
        "id": "4wmzolHp6yKI"
      },
      "source": [
        "## Simulating a game\n",
        "Now with a updating function defined, we can simulate a game and run update as the game goes. To do this, we need to change the library's game function. This is done below \n"
      ]
    },
    {
      "cell_type": "code",
      "execution_count": null,
      "metadata": {
        "id": "N61V73427-AV"
      },
      "outputs": [],
      "source": [
        "LEARNINGRATE = 0.2 #global variables dont hate me\n",
        "\n",
        "# A function that lets us play a game against an enemy\n",
        "def simluateToTrain(enemyAI, theta, N_PLAYERS=2, N_COL_TO_WIN=5, N_MAX_RUNNERS=3, PLAYER_COL_STATE_INIT=[3,5,7,9,11,13,11,9,7,5,3], learningRate = 0.5):\n",
        "  '''Run a simulation of the game Can't Stop!'''\n",
        "  #Input:\n",
        "  # same as in the library\n",
        "  # theta; a 12 sized jnp array, this is the 'policy' we are training \n",
        "  #Output:\n",
        "  # theta; the same parameters for our policy after undergoing training\n",
        "     \n",
        "  # Initialize game \n",
        "  player_col_state = jnp.tile(jnp.array(PLAYER_COL_STATE_INIT,dtype=jnp.dtype('i1')),(N_PLAYERS, 1))\n",
        "  game_in_progress = True\n",
        "  active_player_index = random.randint(0,N_PLAYERS-1) \n",
        "  random_key = jrandom.PRNGKey(int(time.time()))\n",
        "  # Play game\n",
        "  while game_in_progress:   \n",
        "    #Initalize turn\n",
        "    active_player_index = (active_player_index + 1) % N_PLAYERS\n",
        "    runner_col_state = jnp.zeros( 11 ,dtype=jnp.dtype('u1'))\n",
        "    not_busted_state = True\n",
        "    roll_again_state = True    \n",
        "    if active_player_index == 1: # If the AI's turn, scores its board before its action\n",
        "      scoreOld = scoreState(player_col_state) \n",
        "    # Player plays a turn\n",
        "    while roll_again_state: \n",
        "      # Rolls dice, find legal optoins, checks if busted\n",
        "      random_key, subkey_1, subkey_2 = jrandom.split(random_key, 3)\n",
        "      dice_num =  int(jrandom.randint(subkey_1, (1,), 0,1296))\n",
        "      runner_choices, runner_legal = cantStopCode.generate_all_choices_and_legality(dice_num,player_col_state,runner_col_state, N_MAX_RUNNERS)\n",
        "      any_legal_choices = jnp.any(runner_legal)\n",
        "      not_busted_state = not_busted_state and any_legal_choices\n",
        "\n",
        "      if not_busted_state:\n",
        "        if active_player_index == 1: # AI does its turn\n",
        "          choice_index, roll_again_state = aiDecision(active_player_index, player_col_state, runner_choices, runner_legal, random_key,theta)\n",
        "        else: # enemy does its turn\n",
        "          choice_index, roll_again_state = enemyAI(active_player_index, player_col_state, runner_choices, runner_legal,  random_key)\n",
        "        # forces players to stop if it must\n",
        "        if runner_legal[choice_index] == False:\n",
        "          not_busted_state = False  \n",
        "        runner_col_state = runner_choices[choice_index]\n",
        "      roll_again_state = roll_again_state and not_busted_state    \n",
        "    # resolves turn\n",
        "    runner_col_state = runner_col_state*not_busted_state\n",
        "    player_col_state = cantStopCode.update_player_col_state(active_player_index,player_col_state,runner_col_state) \n",
        "\n",
        "    if active_player_index == 1: # If its the AI's turn, scores the new state and does machine learning\n",
        "      scoreNew = scoreState(player_col_state) # Scores the player's board after its action \n",
        "      theta = changeTheta(scoreOld, scoreNew, playerScore, active_player_index, player_col_state, runner_choices, runner_legal, key, theta) # changes theta\n",
        "    player_N_col_claimed = cantStopCode.calculate_player_N_col_claimed(player_col_state)\n",
        "    game_in_progress = not jnp.any(player_N_col_claimed >= N_COL_TO_WIN)\n",
        "  return ( theta )\n",
        "\n"
      ]
    },
    {
      "cell_type": "markdown",
      "metadata": {
        "id": "gA8fxTfS8iFi"
      },
      "source": [
        "## Making sure the simulator works\n",
        "To make sure the simulator runs and all the code is sound, we run 10 simulations against the random AI below. "
      ]
    },
    {
      "cell_type": "code",
      "execution_count": null,
      "metadata": {
        "colab": {
          "base_uri": "https://localhost:8080/",
          "height": 107
        },
        "id": "kiPbtM5P8lTw",
        "outputId": "65c750a7-50ea-4c49-dfd5-c49f19737975"
      },
      "outputs": [
        {
          "output_type": "display_data",
          "data": {
            "text/plain": [
              "<Figure size 432x288 with 1 Axes>"
            ],
            "image/png": "[encoded data removed]"
          },
          "metadata": {
            "needs_background": "light"
          }
        },
        {
          "output_type": "stream",
          "name": "stdout",
          "text": [
            "10.0\n"
          ]
        },
        {
          "output_type": "display_data",
          "data": {
            "text/plain": [
              "<Figure size 432x288 with 1 Axes>"
            ],
            "image/png": "[encoded data removed]"
          },
          "metadata": {
            "needs_background": "light"
          }
        },
        {
          "output_type": "stream",
          "name": "stdout",
          "text": [
            "-1.6191589\n"
          ]
        }
      ],
      "source": [
        "enemyAI = cantStopCode.pure_random_AI\n",
        "theta = jrandom.exponential(key, shape=(12,))\n",
        "theta = theta.at[-1].set(10) # hard code the satisfy value\n",
        "\n",
        "# visualize our old theta\n",
        "fig = plt.figure()\n",
        "ax = fig.add_axes([0,0,1,1])\n",
        "vals = ['2', '3', '4', '5', '6', '7', '8', '9', '10', '11', '12']\n",
        "ax.bar(vals,theta[0:11])\n",
        "plt.show()\n",
        "print(theta[11])\n",
        "\n",
        "for x in range(10): # simulate 10 games\n",
        "  theta = (simluateToTrain(enemyAI,theta))\n",
        "\n",
        "# visualize our new theta\n",
        "fig = plt.figure()\n",
        "ax = fig.add_axes([0,0,1,1])\n",
        "vals = ['2', '3', '4', '5', '6', '7', '8', '9', '10', '11', '12']\n",
        "ax.bar(vals,theta[0:11])\n",
        "plt.show()\n",
        "print(theta[11])"
      ]
    },
    {
      "cell_type": "markdown",
      "metadata": {
        "id": "EnMukyWW9Gc8"
      },
      "source": [
        "## Seeing if we are getting better\n",
        "Now with the basics implemented, we can define some helper functions to make our lives easier and train our AI. All these helper functions are below and include:\n",
        "- initTheta. A function to quickly and convinently initalize theta with random values between 0 and 1 for its behaviour profile and a fixed satisfy value. \n",
        "- visualizeTheta. A function that quickly and convinently plots theta and prints its satisfy value. Handy to see if things are working as expected. \n",
        "- trainAI. This function just takes our AI and plays it against a group of enemies.\n",
        "- trainAndCheckProgress. This function trains our AI against some group for some set of training values. After doing so it plays against the same AI group to see how it fairs. This is very good to see if the AI is getting better as training goes on. \n"
      ]
    },
    {
      "cell_type": "code",
      "execution_count": null,
      "metadata": {
        "id": "n_P2GmV39Xvk"
      },
      "outputs": [],
      "source": [
        "# Initalizes theta with random values and a fixed satsify value.\n",
        "# NOTE, the satisfy value is hard coded to start at 20\n",
        "def initTheta(theta, randKey = key, satVal = 20):\n",
        "  theta = jrandom.exponential(randKey, shape=(12,))\n",
        "  theta = theta.at[-1].set(satVal)\n",
        "  return(theta)\n",
        "\n",
        "# Visualizes the behaviour profile as a bar graph, and spits out the satisfy value via a print statement.\n",
        "def visualizeTheta(theta) :\n",
        "  fig = plt.figure()\n",
        "  ax = fig.add_axes([0,0,1,1])\n",
        "  vals = ['2', '3', '4', '5', '6', '7', '8', '9', '10', '11', '12']\n",
        "  ax.bar(vals,theta[0:11])\n",
        "  plt.show()\n",
        "  print(theta[11])\n",
        "\n",
        "# trains our AI against a group of enemies a certain number of times\n",
        "def trainAI(enemyAI, theta, itsToTrain = 1000):\n",
        "  # Inputs: \n",
        "  # enemyAI = a list of functions, representing the enemies\n",
        "  # itsToTrain = an integer, represents the nubmer of games to train the AI\n",
        "  # theta =... theta we have defined this like 100 times \n",
        "  # Outputs: \n",
        "  # theta \n",
        "  for x in enemyAI:\n",
        "    for y in range(itsToTrain):\n",
        "      theta = simluateToTrain(x,theta)\n",
        "  return(theta)\n",
        "\n",
        "# trains our AI against enemies for multiple sessions, checking its progress along the sessions.\n",
        "GAMENUM = 20\n",
        "def trainAndCheckProgress(theta,enemyAI,trainVals,aiDecision, gameNum = GAMENUM):\n",
        "  for trainVal in trainVals:\n",
        "    global THETA # Note we update the global THETA here, just incase we want to play against aiDecision before its training\n",
        "    THETA= theta # this sets our global variable theta, so we can play against other people using the libraries code\n",
        "    print(f\"Below are results for {trainVal} training sessoins:\")\n",
        "    theta = trainAI(enemyAI,theta, itsToTrain = trainVal) \n",
        "    for idx,enemy in enumerate(enemyAI):\n",
        "      print(f\"Against AI {idx}\")\n",
        "      cantStopCode.play_N_games(gameNum,[aiDecision,enemy])\n",
        "    visualizeTheta(theta)\n",
        "  return(theta)\n"
      ]
    },
    {
      "cell_type": "markdown",
      "metadata": {
        "id": "VxD6Ufm8-0cc"
      },
      "source": [
        "Putting this all together, we can run the following code block to check how the AI is doing, and if its learning as we expect. <br>\n",
        "To start, we train the AI against the three given AI enemies at after 0, 10, 20 and 50 games. <br>\n",
        "The next code block runs it for 100 against all three AIs resulting in 300 games of training. <br>"
      ]
    },
    {
      "cell_type": "code",
      "execution_count": null,
      "metadata": {
        "colab": {
          "base_uri": "https://localhost:8080/",
          "height": 1000
        },
        "id": "0-e0fQtL-0O9",
        "outputId": "faa4fe43-83fb-4255-9061-1ac3dccacf39"
      },
      "outputs": [
        {
          "output_type": "display_data",
          "data": {
            "text/plain": [
              "<Figure size 432x288 with 1 Axes>"
            ],
            "image/png": "[encoded data removed]"
          },
          "metadata": {
            "needs_background": "light"
          }
        },
        {
          "output_type": "stream",
          "name": "stdout",
          "text": [
            "20.0\n",
            "Below are results for 0 training sessoins:\n",
            "Against AI 0\n",
            "0 % done\n",
            "10 % done\n",
            "20 % done\n",
            "30 % done\n",
            "40 % done\n",
            "50 % done\n",
            "60 % done\n",
            "70 % done\n",
            "80 % done\n",
            "90 % done\n",
            "After  20  winners are  [ 0 20]\n",
            "Against AI 1\n",
            "0 % done\n",
            "10 % done\n",
            "20 % done\n",
            "30 % done\n",
            "40 % done\n",
            "50 % done\n",
            "60 % done\n",
            "70 % done\n",
            "80 % done\n",
            "90 % done\n",
            "After  20  winners are  [ 4 16]\n",
            "Against AI 2\n",
            "0 % done\n",
            "10 % done\n",
            "20 % done\n",
            "30 % done\n",
            "40 % done\n",
            "50 % done\n",
            "60 % done\n",
            "70 % done\n",
            "80 % done\n",
            "90 % done\n",
            "After  20  winners are  [ 1 19]\n"
          ]
        },
        {
          "output_type": "display_data",
          "data": {
            "text/plain": [
              "<Figure size 432x288 with 1 Axes>"
            ],
            "image/png": "[encoded data removed]"
          },
          "metadata": {
            "needs_background": "light"
          }
        },
        {
          "output_type": "stream",
          "name": "stdout",
          "text": [
            "20.0\n",
            "Below are results for 10 training sessoins:\n",
            "Against AI 0\n",
            "0 % done\n",
            "10 % done\n",
            "20 % done\n",
            "30 % done\n",
            "40 % done\n",
            "50 % done\n",
            "60 % done\n",
            "70 % done\n",
            "80 % done\n",
            "90 % done\n",
            "After  20  winners are  [ 7 13]\n",
            "Against AI 1\n",
            "0 % done\n",
            "10 % done\n",
            "20 % done\n",
            "30 % done\n",
            "40 % done\n",
            "50 % done\n",
            "60 % done\n",
            "70 % done\n",
            "80 % done\n",
            "90 % done\n",
            "After  20  winners are  [ 4 16]\n",
            "Against AI 2\n",
            "0 % done\n",
            "10 % done\n",
            "20 % done\n",
            "30 % done\n",
            "40 % done\n",
            "50 % done\n",
            "60 % done\n",
            "70 % done\n",
            "80 % done\n",
            "90 % done\n",
            "After  20  winners are  [ 4 16]\n"
          ]
        },
        {
          "output_type": "display_data",
          "data": {
            "text/plain": [
              "<Figure size 432x288 with 1 Axes>"
            ],
            "image/png": "[encoded data removed]"
          },
          "metadata": {
            "needs_background": "light"
          }
        },
        {
          "output_type": "stream",
          "name": "stdout",
          "text": [
            "-7.581274\n",
            "Below are results for 20 training sessoins:\n",
            "Against AI 0\n",
            "0 % done\n",
            "10 % done\n",
            "20 % done\n",
            "30 % done\n",
            "40 % done\n",
            "50 % done\n",
            "60 % done\n",
            "70 % done\n",
            "80 % done\n",
            "90 % done\n",
            "After  20  winners are  [ 4 16]\n",
            "Against AI 1\n",
            "0 % done\n",
            "10 % done\n",
            "20 % done\n",
            "30 % done\n",
            "40 % done\n",
            "50 % done\n",
            "60 % done\n",
            "70 % done\n",
            "80 % done\n",
            "90 % done\n",
            "After  20  winners are  [ 4 16]\n",
            "Against AI 2\n",
            "0 % done\n",
            "10 % done\n",
            "20 % done\n",
            "30 % done\n",
            "40 % done\n",
            "50 % done\n",
            "60 % done\n",
            "70 % done\n",
            "80 % done\n",
            "90 % done\n",
            "After  20  winners are  [ 0 20]\n"
          ]
        },
        {
          "output_type": "display_data",
          "data": {
            "text/plain": [
              "<Figure size 432x288 with 1 Axes>"
            ],
            "image/png": "[encoded data removed]"
          },
          "metadata": {
            "needs_background": "light"
          }
        },
        {
          "output_type": "stream",
          "name": "stdout",
          "text": [
            "-55.88028\n",
            "Below are results for 50 training sessoins:\n",
            "Against AI 0\n",
            "0 % done\n",
            "10 % done\n",
            "20 % done\n",
            "30 % done\n",
            "40 % done\n",
            "50 % done\n",
            "60 % done\n",
            "70 % done\n",
            "80 % done\n",
            "90 % done\n",
            "After  20  winners are  [ 4 16]\n",
            "Against AI 1\n",
            "0 % done\n",
            "10 % done\n",
            "20 % done\n",
            "30 % done\n",
            "40 % done\n",
            "50 % done\n",
            "60 % done\n",
            "70 % done\n",
            "80 % done\n",
            "90 % done\n",
            "After  20  winners are  [ 2 18]\n",
            "Against AI 2\n",
            "0 % done\n",
            "10 % done\n",
            "20 % done\n",
            "30 % done\n",
            "40 % done\n",
            "50 % done\n",
            "60 % done\n",
            "70 % done\n",
            "80 % done\n",
            "90 % done\n",
            "After  20  winners are  [ 4 16]\n"
          ]
        },
        {
          "output_type": "display_data",
          "data": {
            "text/plain": [
              "<Figure size 432x288 with 1 Axes>"
            ],
            "image/png": "[encoded data removed]"
          },
          "metadata": {
            "needs_background": "light"
          }
        },
        {
          "output_type": "stream",
          "name": "stdout",
          "text": [
            "-179.35004\n",
            "Below are results for 100 training sessoins:\n",
            "Against AI 0\n",
            "0 % done\n",
            "10 % done\n",
            "20 % done\n",
            "30 % done\n",
            "40 % done\n",
            "50 % done\n",
            "60 % done\n",
            "70 % done\n",
            "80 % done\n",
            "90 % done\n",
            "After  20  winners are  [ 4 16]\n",
            "Against AI 1\n",
            "0 % done\n",
            "10 % done\n",
            "20 % done\n",
            "30 % done\n",
            "40 % done\n",
            "50 % done\n",
            "60 % done\n",
            "70 % done\n",
            "80 % done\n",
            "90 % done\n",
            "After  20  winners are  [ 0 20]\n",
            "Against AI 2\n",
            "0 % done\n",
            "10 % done\n",
            "20 % done\n",
            "30 % done\n",
            "40 % done\n",
            "50 % done\n",
            "60 % done\n",
            "70 % done\n",
            "80 % done\n",
            "90 % done\n",
            "After  20  winners are  [ 0 20]\n"
          ]
        },
        {
          "output_type": "display_data",
          "data": {
            "text/plain": [
              "<Figure size 432x288 with 1 Axes>"
            ],
            "image/png": "[encoded data removed]"
          },
          "metadata": {
            "needs_background": "light"
          }
        },
        {
          "output_type": "stream",
          "name": "stdout",
          "text": [
            "-432.39938\n",
            "Below are results for 200 training sessoins:\n",
            "Against AI 0\n",
            "0 % done\n",
            "10 % done\n",
            "20 % done\n",
            "30 % done\n",
            "40 % done\n",
            "50 % done\n",
            "60 % done\n",
            "70 % done\n",
            "80 % done\n",
            "90 % done\n",
            "After  20  winners are  [ 4 16]\n",
            "Against AI 1\n",
            "0 % done\n",
            "10 % done\n",
            "20 % done\n",
            "30 % done\n",
            "40 % done\n",
            "50 % done\n",
            "60 % done\n",
            "70 % done\n",
            "80 % done\n",
            "90 % done\n",
            "After  20  winners are  [ 0 20]\n",
            "Against AI 2\n",
            "0 % done\n",
            "10 % done\n",
            "20 % done\n",
            "30 % done\n",
            "40 % done\n",
            "50 % done\n",
            "60 % done\n",
            "70 % done\n",
            "80 % done\n",
            "90 % done\n",
            "After  20  winners are  [ 0 20]\n"
          ]
        },
        {
          "output_type": "display_data",
          "data": {
            "text/plain": [
              "<Figure size 432x288 with 1 Axes>"
            ],
            "image/png": "[encoded data removed]"
          },
          "metadata": {
            "needs_background": "light"
          }
        },
        {
          "output_type": "stream",
          "name": "stdout",
          "text": [
            "-951.454\n"
          ]
        }
      ],
      "source": [
        "enemyAI = [cantStopCode.pure_random_AI, cantStopCode.random_timid_AI, cantStopCode.runner_weights_AI]\n",
        "theta = initTheta(theta)\n",
        "THETA = theta\n",
        "trainVals = [0,10,20,50,100,200]\n",
        "visualizeTheta(theta)\n",
        "theta = trainAndCheckProgress(theta,enemyAI,trainVals,aiDecision)\n",
        "np.savetxt('novel.txt', theta, fmt='%d')\n"
      ]
    },
    {
      "cell_type": "markdown",
      "metadata": {
        "id": "ftD8SvdX9Gau"
      },
      "source": [
        "# Analysis of novel approach\n"
      ]
    },
    {
      "cell_type": "markdown",
      "metadata": {
        "id": "vHyQUX13tOG3"
      },
      "source": [
        "After running the initial tests, here is how the AI preformed. Each column is an AI type, and each row is after a certain number of training sessions. The win to loss ratio is reported as [Wins,Losses]\n",
        "\n",
        "Sessions | Pure random | Timid | Weights \n",
        "---------|-------------|-------|--------\n",
        "0|[4,16]|[7,13]|[0,20] \n",
        "10|[3,17]|[4,16]|[0,20] \n",
        "20|[2,18]|[5,15]|[1,19] \n",
        "50|[6,14]|[0,20]|[4,16] \n",
        "100|[2,18]|[0,20]|[0,20] \n",
        "<br>\n",
        "\n",
        "These results are concerning. It seems that our AI is getting _worse_ in general as it trains. With the exception of 50 training sessions, it never even gets significant wins against the runner_weights AI. Infact, if the visualizations are looked at, the satisfy value becomes an alarming -238 after 300 training games.<br>\n",
        "This frankly comes from our implementation of the intuitive method. \n",
        "\n"
      ]
    },
    {
      "cell_type": "markdown",
      "metadata": {
        "id": "sKsHNdv6Cshq"
      },
      "source": [
        "## (Probably) Why it fails\n",
        "The AI as written now, has a deterministic actor that is being trained by a very simple value function, this being the scoring state function. The issue doesn't come from using this hacked value iteration method, but instead from the object we are taking the gradient of. That is the playerScoring function or $p(S)$. This function attempts to emulate what is normally a probability distribution by instead taking the valid option and taking on a subtraction sign with the satisfy value. This naive (and retroactively dumb) choice forces the derivative to be a constant negative value with respect to the satisfy value, leading to the incredible -200 after 300 training games. While this method failed, it can be saved. It just requires us to change our functions to better encapsulate the concept of 'probability distriubion' as seen in the course in so far. \n",
        " "
      ]
    },
    {
      "cell_type": "markdown",
      "metadata": {
        "id": "m8BtdiWDYiQi"
      },
      "source": [
        "# Turning our AI probabilistic\n",
        "\n",
        "We need to turn our AI into one that chooses probabilisically. That is to say, have our 'scoring functions' spit out functions that are probabilities. Luckily this is a simple change but requires a few steps:<br>\n",
        "\n"
      ]
    },
    {
      "cell_type": "markdown",
      "metadata": {
        "id": "lCs0GHLmDz34"
      },
      "source": [
        "## Changing our AI\n",
        "\n",
        "> To start, lets deal with how we obtain the choice_index. Beforehand we used jnp.argmax to choose the score which obtained the highest value. Instead, we want to produce a probabilistic AI. To start, lets produce a probability distribution from our scored options. This can be done by using jnp.softmax on our scored options. We can then choose a choice_index by randomly picking a column. The code for this was actually made in assignment one, so we will just reuse our code from there and call it chooseIndex. All in all, this changes our choice_index line as follows:\n",
        "<br>\n",
        "\n",
        "```python\n",
        "choice_index = jnp.argmax(legal*scoredOptions) # Old\n",
        "choice_index = chooseIndex(jnn.softmax(legal*jnp.add(scoredProgress,scoredOptions))) # new\n",
        "``` \n",
        "<br>\n",
        "\n",
        "> We can similarly change our choice to stop rolling from a deterministic evaluation into a chance, based upon our current satisfy value. For this we chose an arctan function. The reasons come from a bunch of work, but instead of explaining how we chose this somewhat arbtirary function we will instead act like we chose it by accident initially. The chosen function is:\n",
        "$$ p_{roll} = \\frac{arctan(s_{chosen}-\\theta_{11}) + 1.5}{3} $$\n",
        "This changes our code as follows:\n",
        "```python\n",
        "roll_again = theta[12] > scoredOptions[choice_index] # Old\n",
        "roll_again = random.random() > (jnp.arctan(scoredOptions[choice_index] - theta[11]) + 1.5)/3 # New\n",
        "```\n",
        "<br>\n",
        "\n",
        "> Now, since future work will require us to take the gradient of these probabilities, it is easiest to just have these lines of code kept as seperate functions that output the probabilities.  \n",
        "\n",
        "All of this culminates in the following new aiDecision and probabilistic function:\n"
      ]
    },
    {
      "cell_type": "code",
      "execution_count": null,
      "metadata": {
        "id": "KLvF6v0KEELk"
      },
      "outputs": [],
      "source": [
        "\n",
        "# nothing new about this, just helped with running stuff in the jyupter notebook\n",
        "def initTheta(theta, randKey = key, satVal = 2):\n",
        "  theta = jnn.softmax(jrandom.exponential(randKey, shape=(12,)))\n",
        "  theta = theta.at[-1].set(satVal)\n",
        "  return(theta)\n",
        "\n",
        "# nothing new about this, just helped with running stuff in the jyupter notebook\n",
        "def visualizeTheta(theta) :\n",
        "  fig = plt.figure()\n",
        "  ax = fig.add_axes([0,0,1,1])\n",
        "  vals = ['2', '3', '4', '5', '6', '7', '8', '9', '10', '11', '12']\n",
        "  ax.bar(vals,theta[0:11])\n",
        "  plt.show() # behaviour profile\n",
        "  print(theta[11]) # sat val\n",
        "\n",
        "theta = jnn.softmax(jrandom.exponential(key, shape=(12,)))  # just incase.\n",
        "theta = initTheta(theta)\n",
        "THETA = theta\n",
        "\n",
        "# See problem 1 assignment 1 for more details\n",
        "def chooseIndex(probDist):\n",
        "  random.seed()\n",
        "  rand = random.uniform(0,1)\n",
        "  cumVec = np.cumsum(probDist) # generates the cumulative sum to incorporate U\n",
        "  choice = np.searchsorted(cumVec,rand, side = 'left') \n",
        "  return choice\n",
        "\n",
        "# Outputs the prob dist for choosing columns\n",
        "def aiChoiceProbabilistic(choices, legal, theta):\n",
        "  # Inputs:\n",
        "  # choices, legal, theta as defined earlier\n",
        "  # Outputs:\n",
        "  # thetaToChooseFrom = An np array of size (11,) which is the probability distribution of our AI choosing any of the columns\n",
        "  scoredOptions = (choices @ theta[0:11]) # scores our current options\n",
        "  thetaToChooseFrom =jnn.softmax(legal*scoredOptions) # generates prob dist using softmax\n",
        "  return (thetaToChooseFrom)\n",
        "\n",
        "# Outputs the prob dist for choosing to roll again\n",
        "def aiRollProbabilistic(choices, choice_index, theta):\n",
        "  scoredOptions = (choices @ theta[0:11])\n",
        "  rollAgainChance = (jnp.arctan(scoredOptions[choice_index] - theta[11]) + 1.5)/3# = ~ 0.04 if 3 behind the satisfy value . \n",
        "  return([rollAgainChance, 1 - rollAgainChance])\n",
        "\n",
        "# The actor which spits a choice based upon its probability distribution\n",
        "def aiDecision(active_player_index, player_col_state, choices, legal, random_key, theta = THETA, PLAYER_COL_STATE_INIT=jnp.array([3,5,7,9,11,13,11,9,7,5,3])):\n",
        "  # Inputs:\n",
        "  # same as earlier\n",
        "  # Outputs:\n",
        "  # choice_index; an integer represetning the chosen option\n",
        "  # roll_again; a bollean; representing if the player ends its turn\n",
        "  thetaToChooseFrom = aiChoiceProbabilistic(choices,legal,theta)\n",
        "  choice_index =  chooseIndex(thetaToChooseFrom)\n",
        "  roll_again = random.random() > aiRollProbabilistic(choices, choice_index, theta)[0] # if = 1, then approx 70% to roll again\n",
        "  return (choice_index, roll_again)"
      ]
    },
    {
      "cell_type": "markdown",
      "metadata": {
        "id": "ZsBlZBuEJEgU"
      },
      "source": [
        "## Changing how our machine learns\n",
        "Armed with this probabilistic method, we can now use a new method to update our AI. Inclass this is known as the \"policy gradient method\" and allows us to update $\\theta$ after a game with: <br>\n",
        "\n",
        "$$ \\theta = \\theta + L\\cdot G \\cdot \\nabla(ln(\\pi(A_t | S_t, \\theta) $$  \n",
        "\n",
        "In this equation $G$ is the sum of our rewards over our actions and $L$ is our learning rate. Due to the construction of the game $G$ will only reward wins with $1$ and everything else with $0$. <br>\n",
        "To implement this, we need to change our function that simulates a game.\n",
        "\n"
      ]
    },
    {
      "cell_type": "markdown",
      "metadata": {
        "id": "eN7XkDhSJOT-"
      },
      "source": [
        "## A quick caveat \n",
        "\n",
        "Notice in the policy gradient formula, we need to store our actions and states at every time step. This can be done, but since the objects for our state at every time step are a few np arrays of varying size, we generate a python class called state record and update this. This class is below:<br>\n",
        "Note, we incorproate a maxTurn value of 100 for two reasons. One numpy arrays need to have a finite size and two, we only need to consider a max of 100 turns because if a player only had the ability to advance one runner a turn and decided to fill every single column before completing one they would be forced to finish the game after about 80 turns. We expect our AI to be considerably better than this, so lets just disregard anything that takes more than 100 turns to complete. \n",
        "\n"
      ]
    },
    {
      "cell_type": "code",
      "execution_count": null,
      "metadata": {
        "id": "f87hPKx5OmU2"
      },
      "outputs": [],
      "source": [
        "class StateRecord:\n",
        "  def __init__(self,maxTurns):\n",
        "    self.col = np.zeros((maxTurns,2,11)) # stores the player col state, which is (2,11) because we have two players\n",
        "    self.choice = np.zeros((maxTurns,9,11)) # stores the possible options, which is (9,11)\n",
        "    self.legal = np.zeros((maxTurns,9)) # stores which optiosn are legal, which is (9,)\n",
        "    # self.random = np.zeros((maxTurns,)) # technically these will always be the same and arent even used by the function, we just have it as parameters so we can play against others in the future\n",
        "\n",
        "  def update(self, turnNum, player_col_state, runner_choices, runner_legal):\n",
        "    self.col[turnNum] = player_col_state\n",
        "    self.choice[turnNum] = runner_choices\n",
        "    self.legal[turnNum] = runner_legal"
      ]
    },
    {
      "cell_type": "markdown",
      "metadata": {
        "id": "mTn0xHvALoCI"
      },
      "source": [
        "## Implementing learning\n",
        "With this new equation, we also need to update the changeTheta function. To do this we need to take a log of a function. This is most easily done via pythons lambda functions. For simplicity we will start with only dealing with the roll_again function, but this works as:<br>\n",
        "```python \n",
        "logAiProbRand = (lambda a,b,c : jnp.log(aiRollProbabilistic(a,b,c)[0]), lambda a,b,c : jnp.log(aiRollProbabilistic(a,b,c)[1]) )\n",
        "```\n",
        "After the log of the function is obtained, we can take the gradient for all possible actions. \n",
        "```python\n",
        "gradLogAiProbRand = jax.jit(jax.grad(logAiProbRand[0], argnums=(2))), jax.jit(jax.grad(logAiProbRand[1], argnums=(2))) \n",
        "```\n",
        "Later on we just evaluate this list of functions for the action taken and move on. \n",
        "``` python\n",
        "theta+= learningRate*(gradLogAiProbRand[rollChoice](pChoice,colChoice,theta))\n",
        "```"
      ]
    },
    {
      "cell_type": "code",
      "execution_count": null,
      "metadata": {
        "id": "lUjj71rSLyrs"
      },
      "outputs": [],
      "source": [
        "# We compute the gradient as a.... global function? mainly to save time. This is very ugly in terms of coding practice, but its REALLY convinent \n",
        "# deals with the roll again chance\n",
        "logAiProbRand = (lambda a,b,c : jnp.log(aiRollProbabilistic(a,b,c)[0]), lambda a,b,c : jnp.log(aiRollProbabilistic(a,b,c)[1]) ) # obfuscated but efficient\n",
        "gradLogAiProbRand = jax.jit(jax.grad(logAiProbRand[0], argnums=(2))), jax.jit(jax.grad(logAiProbRand[1], argnums=(2))) # obfuscated but efficient\n",
        "# deals with the behaviour profile, theta\n",
        "# logAiProbChoice = (lambda a,b,c : jnp.log(aiChoiceProbabilistic(a,b,c)[colChoice])) #use actions as index\n",
        "# gradLogAiProbChoice = jax.jit(jax.grad(logAiProbChoice, argnums=(2))) #argnum theta\n",
        "\n",
        "# the function that actually does the learning, note we assume we won the last game and our reward is 1\n",
        "def changeTheta(theta,playerStateRecord,playerActionRecord, reward, learningRate = 0.2):\n",
        "  # Inputs\n",
        "  # theta; a 12 sized jnp array, this is the 'policy' we are training \n",
        "  # playerStateRecord; a list with dimensions [t,5] 5 being from our state at every time step (active_player_index, player_col_state, runner_choices, runner_legal, theta)\n",
        "  # playerActionRecord; a list with dimensions [t,2] 2 being from our actions at every time step (choice index, roll again state) \n",
        "  # Outputs\n",
        "  # theta; updated via policy grad method\n",
        "  if reward != 0: # note, we just ignore the data set if the reward is 0 since our player lost those\n",
        "    for t in range(1,len(playerActionRecord)): \n",
        "      colChoice = int(playerActionRecord[t][0])\n",
        "      rollChoice = int(playerActionRecord[t][1])\n",
        "      pCol = playerStateRecord.col[t]\n",
        "      pChoice = playerStateRecord.choice[t]\n",
        "      pLegal = playerStateRecord.legal[t]\n",
        "      theta+= learningRate*(gradLogAiProbRand[rollChoice](pChoice,colChoice,theta)) # chooses derivative based on our roll again choice\n",
        "      # theta+= learningRate*gradLogAiProbChoice(pChoice,pLegal,theta) # chooses derivative based on our column choice\n",
        "  return(theta)\n",
        "  "
      ]
    },
    {
      "cell_type": "markdown",
      "metadata": {
        "id": "NvV3aYsbJiGZ"
      },
      "source": [
        "## New game simulator\n",
        "With the learning set up, we now must change our game simulation, since we don't update after every game anymore. Theres a few things that need to be changed. To start:<br>\n",
        "### Recording our AI\n",
        "> To record the states and our actions we use the previous class and a numpy array and update it after everyone of our turns. <br>\n",
        "\n",
        "```python\n",
        "# initalized as\n",
        "playerActionRecord = np.zeros((maxTurns,2))\n",
        "playerStateRecord = StateRecord(maxTurns)\n",
        "# used as \n",
        "if active_player_index == 1 and turnNum < maxTurns: # records everything\n",
        "  playerActionRecord[turnNum][0] = choice_index\n",
        "  playerActionRecord[turnNum][1] = roll_again_state \n",
        "  playerStateRecord.update(turnNum, player_col_state, runner_choices, runner_legal)\n",
        "  turnNum += 1\n",
        "```\n",
        "\n",
        "### Recording \n",
        "> To record if we won or lost, we simply check if the winning player is player 1 or not and give a reward of one if we won. This is implemented through: <br>\n",
        "\n",
        "```python\n",
        "# initialized as\n",
        "reward = 0\n",
        "# used as\n",
        "if active_player_index == 1: # This means our AI won, possibly by timeout, \n",
        "  reward = 1 \n",
        "```\n",
        "\n",
        "This ultimately culminates in the following code. \n",
        "\n"
      ]
    },
    {
      "cell_type": "code",
      "execution_count": null,
      "metadata": {
        "id": "rtAgt_-lKhGl"
      },
      "outputs": [],
      "source": [
        "LEARNINGRATE = 0.2 #global variables dont hate me\n",
        "\n",
        "# A function that lets us train against our enemies\n",
        "def simluateToTrain(enemyAI, theta, N_PLAYERS=2, N_COL_TO_WIN=5, N_MAX_RUNNERS=3, PLAYER_COL_STATE_INIT=[3,5,7,9,11,13,11,9,7,5,3], learningRate = 0.5):\n",
        "  '''Run a simulation of the game Can't Stop!'''\n",
        "  #Input:\n",
        "  # enemyAI; a function, represents the enemy we are training against\n",
        "  # theta; a 12 sized jnp array, this is the 'policy' we are training \n",
        "  # everything else is as defined for the simulate_game function\n",
        "  #Output:\n",
        "  # theta; a 12 sized jnp array, this is the 'policy' we are training \n",
        "  # playerStateRecord; a list with dimensions [t,5] 5 being from our state at every time step (active_player_index, player_col_state, runner_choices, runner_legal, theta)\n",
        "  # playerActionRecord; a list with dimensions [t,2] 2 being from our actions at every time step (choice index, roll again state) \n",
        "  # reward; an integer 0 if we lost, 1 if we won\n",
        "     \n",
        "  # Initialize game \n",
        "  player_col_state = jnp.tile(jnp.array(PLAYER_COL_STATE_INIT,dtype=jnp.dtype('i1')),(N_PLAYERS, 1))\n",
        "  game_in_progress = True\n",
        "  active_player_index = random.randint(0,N_PLAYERS-1) \n",
        "  random_key = jrandom.PRNGKey(int(time.time()))\n",
        "  reward = 0 # by default we assume the player lost the game, we change this to 1 if we win\n",
        "  maxTurns = 100\n",
        "  playerActionRecord = np.zeros((maxTurns,2))# for our later machine learning, this records the states the AI is in at every time step\n",
        "  playerStateRecord = StateRecord(maxTurns)\n",
        "  turnNum = 0 # we need this to record things effectively\n",
        "  # Play game\n",
        "  while game_in_progress:\n",
        "    #Initalize turn\n",
        "    active_player_index = (active_player_index + 1) % N_PLAYERS\n",
        "    runner_col_state = jnp.zeros( 11 ,dtype=jnp.dtype('u1'))\n",
        "    not_busted_state = True\n",
        "    roll_again_state = True    \n",
        "    # Player plays a turn\n",
        "    while roll_again_state: \n",
        "      # Rolls dice, find legal optoins, checks if busted\n",
        "      random_key, subkey_1, subkey_2 = jrandom.split(random_key, 3)\n",
        "      dice_num =  int(jrandom.randint(subkey_1, (1,), 0,1296))\n",
        "      runner_choices, runner_legal = cantStopCode.generate_all_choices_and_legality(dice_num,player_col_state,runner_col_state, N_MAX_RUNNERS)\n",
        "      any_legal_choices = jnp.any(runner_legal)\n",
        "      not_busted_state = not_busted_state and any_legal_choices\n",
        "\n",
        "      if not_busted_state:\n",
        "        if active_player_index == 1: # AI does its turn\n",
        "          choice_index, roll_again_state = aiDecision(active_player_index, player_col_state, runner_choices, runner_legal, random_key, theta)\n",
        "        else: # enemy does its turn\n",
        "          choice_index, roll_again_state = enemyAI(active_player_index, player_col_state, runner_choices, runner_legal,  random_key)\n",
        "        if active_player_index == 1 and turnNum < maxTurns: # records everything\n",
        "          playerActionRecord[turnNum][0] = choice_index\n",
        "          playerActionRecord[turnNum][1] = roll_again_state # we define col choice as 0 index, and roll choice as 1 index\n",
        "          playerStateRecord.update(turnNum, player_col_state, runner_choices, runner_legal) # we define col as pos 1, choices as pos 2, legal as pos 3\n",
        "          turnNum += 1\n",
        "        # forces players to stop if it must\n",
        "        if runner_legal[choice_index] == False:\n",
        "          not_busted_state = False\n",
        "        runner_col_state = runner_choices[choice_index]\n",
        "      roll_again_state = roll_again_state and not_busted_state    \n",
        "    # resolves turn\n",
        "    runner_col_state = runner_col_state*not_busted_state\n",
        "    player_col_state = cantStopCode.update_player_col_state(active_player_index,player_col_state,runner_col_state) \n",
        "    player_N_col_claimed = cantStopCode.calculate_player_N_col_claimed(player_col_state)\n",
        "    game_in_progress = not jnp.any(player_N_col_claimed >= N_COL_TO_WIN) # checks for winner\n",
        "  if active_player_index == 1: # This means our AI won, possibly by timeout, \n",
        "    reward = 1 # LOWERING THIS MADE IT WORK\n",
        "  return theta, playerStateRecord, playerActionRecord, reward\n"
      ]
    },
    {
      "cell_type": "markdown",
      "metadata": {
        "id": "RJzY-ZOpPte4"
      },
      "source": [
        "## Other minor changes\n",
        "Since our game simulation spits out a larger number of values, trainAI needs to change. \n"
      ]
    },
    {
      "cell_type": "code",
      "execution_count": null,
      "metadata": {
        "id": "94qXyfvoP_Bx"
      },
      "outputs": [],
      "source": [
        "# trains our AI against a group of enemies a certain number of times\n",
        "def trainAI(enemyAI, theta, itsToTrain = 1000):\n",
        "  # Inputs: \n",
        "  # enemyAI = a list of functions, representing the enemies\n",
        "  # itsToTrain = an integer, represents the nubmer of games to train the AI\n",
        "  # theta =... theta we have defined this like 100 times \n",
        "  # Outputs: \n",
        "  # theta \n",
        "  for x in enemyAI:\n",
        "    for y in range(itsToTrain):\n",
        "      theta, playerStateRecord, playerActionRecord, reward = simluateToTrain(x,theta)\n",
        "      theta = changeTheta(theta, playerStateRecord, playerActionRecord, reward)\n",
        "  return(theta)\n",
        "\n",
        "# trains our AI, checking against a list of enemies along the way\n",
        "def trainAndCheckProgress(theta,enemyAI,trainVals,aiPolicy):\n",
        "  # Inputs:\n",
        "  # same as before\n",
        "  # Outputs: \n",
        "  # same as before\n",
        "  for trainVal in trainVals:\n",
        "    print(f\"Below are results for {trainVal} training sessoins:\")\n",
        "    theta = trainAI(enemyAI,theta, itsToTrain = trainVal) # this sets our global variable theta, so we can play against other people using the libraries code\n",
        "    global THETA \n",
        "    for idx,enemy in enumerate(enemyAI):\n",
        "      print(f\"Against AI {idx}\")\n",
        "      cantStopCode.play_N_games(10,[aiPolicy,enemy]) # we renamed this to aiPolicy, since its just the function theta is attached to\n",
        "    visualizeTheta(theta)\n",
        "    THETA = theta # this makes it so we play against the OLDER version of aiDecision\n",
        "  return(theta)"
      ]
    },
    {
      "cell_type": "markdown",
      "metadata": {
        "id": "LcPIgJyTQWTZ"
      },
      "source": [
        "# Making sure the new AI works\n",
        "This is quite simple; it is just using the same code block as earlier.\n",
        "\n",
        "\n"
      ]
    },
    {
      "cell_type": "code",
      "execution_count": null,
      "metadata": {
        "colab": {
          "base_uri": "https://localhost:8080/",
          "height": 1000
        },
        "id": "jQI6PMFlQc6S",
        "outputId": "fcdc42ef-b365-4eb3-aed2-39e28f6ecf8b"
      },
      "outputs": [
        {
          "output_type": "display_data",
          "data": {
            "text/plain": [
              "<Figure size 432x288 with 1 Axes>"
            ],
            "image/png": "[encoded data removed]"
          },
          "metadata": {
            "needs_background": "light"
          }
        },
        {
          "output_type": "stream",
          "name": "stdout",
          "text": [
            "2.0\n",
            "Below are results for 0 training sessoins:\n",
            "Against AI 0\n",
            "0 % done\n",
            "10 % done\n",
            "20 % done\n",
            "30 % done\n",
            "40 % done\n",
            "50 % done\n",
            "60 % done\n",
            "70 % done\n",
            "80 % done\n",
            "90 % done\n",
            "After  10  winners are  [ 0 10]\n",
            "Against AI 1\n",
            "0 % done\n",
            "10 % done\n",
            "20 % done\n",
            "30 % done\n",
            "40 % done\n",
            "50 % done\n",
            "60 % done\n",
            "70 % done\n",
            "80 % done\n",
            "90 % done\n",
            "After  10  winners are  [ 0 10]\n",
            "Against AI 2\n",
            "0 % done\n",
            "10 % done\n",
            "20 % done\n",
            "30 % done\n",
            "40 % done\n",
            "50 % done\n",
            "60 % done\n",
            "70 % done\n",
            "80 % done\n",
            "90 % done\n",
            "After  10  winners are  [ 0 10]\n"
          ]
        },
        {
          "output_type": "display_data",
          "data": {
            "text/plain": [
              "<Figure size 432x288 with 1 Axes>"
            ],
            "image/png": "[encoded data removed]"
          },
          "metadata": {
            "needs_background": "light"
          }
        },
        {
          "output_type": "stream",
          "name": "stdout",
          "text": [
            "2.0\n",
            "Below are results for 10 training sessoins:\n"
          ]
        },
        {
          "output_type": "error",
          "ename": "KeyboardInterrupt",
          "evalue": "ignored",
          "traceback": [
            "\u001b[0;31m---------------------------------------------------------------------------\u001b[0m",
            "\u001b[0;31mKeyboardInterrupt\u001b[0m                         Traceback (most recent call last)",
            "\u001b[0;32m<ipython-input-39-1f1e32387abc>\u001b[0m in \u001b[0;36m<module>\u001b[0;34m()\u001b[0m\n\u001b[1;32m      5\u001b[0m \u001b[0mtrainVals\u001b[0m \u001b[0;34m=\u001b[0m \u001b[0;34m[\u001b[0m\u001b[0;36m0\u001b[0m\u001b[0;34m,\u001b[0m\u001b[0;36m10\u001b[0m\u001b[0;34m,\u001b[0m\u001b[0;36m50\u001b[0m\u001b[0;34m]\u001b[0m\u001b[0;34m\u001b[0m\u001b[0;34m\u001b[0m\u001b[0m\n\u001b[1;32m      6\u001b[0m \u001b[0mGAMENUM\u001b[0m \u001b[0;34m=\u001b[0m \u001b[0;36m10\u001b[0m\u001b[0;34m\u001b[0m\u001b[0;34m\u001b[0m\u001b[0m\n\u001b[0;32m----> 7\u001b[0;31m \u001b[0mtheta\u001b[0m \u001b[0;34m=\u001b[0m \u001b[0mtrainAndCheckProgress\u001b[0m\u001b[0;34m(\u001b[0m\u001b[0mtheta\u001b[0m\u001b[0;34m,\u001b[0m\u001b[0menemyAI\u001b[0m\u001b[0;34m,\u001b[0m\u001b[0mtrainVals\u001b[0m\u001b[0;34m,\u001b[0m\u001b[0maiDecision\u001b[0m\u001b[0;34m)\u001b[0m\u001b[0;34m\u001b[0m\u001b[0;34m\u001b[0m\u001b[0m\n\u001b[0m",
            "\u001b[0;32m<ipython-input-38-45c24b8dea88>\u001b[0m in \u001b[0;36mtrainAndCheckProgress\u001b[0;34m(theta, enemyAI, trainVals, aiPolicy)\u001b[0m\n\u001b[1;32m     21\u001b[0m   \u001b[0;32mfor\u001b[0m \u001b[0mtrainVal\u001b[0m \u001b[0;32min\u001b[0m \u001b[0mtrainVals\u001b[0m\u001b[0;34m:\u001b[0m\u001b[0;34m\u001b[0m\u001b[0;34m\u001b[0m\u001b[0m\n\u001b[1;32m     22\u001b[0m     \u001b[0mprint\u001b[0m\u001b[0;34m(\u001b[0m\u001b[0;34mf\"Below are results for {trainVal} training sessoins:\"\u001b[0m\u001b[0;34m)\u001b[0m\u001b[0;34m\u001b[0m\u001b[0;34m\u001b[0m\u001b[0m\n\u001b[0;32m---> 23\u001b[0;31m     \u001b[0mtheta\u001b[0m \u001b[0;34m=\u001b[0m \u001b[0mtrainAI\u001b[0m\u001b[0;34m(\u001b[0m\u001b[0menemyAI\u001b[0m\u001b[0;34m,\u001b[0m\u001b[0mtheta\u001b[0m\u001b[0;34m,\u001b[0m \u001b[0mitsToTrain\u001b[0m \u001b[0;34m=\u001b[0m \u001b[0mtrainVal\u001b[0m\u001b[0;34m)\u001b[0m \u001b[0;31m# this sets our global variable theta, so we can play against other people using the libraries code\u001b[0m\u001b[0;34m\u001b[0m\u001b[0;34m\u001b[0m\u001b[0m\n\u001b[0m\u001b[1;32m     24\u001b[0m     \u001b[0;32mglobal\u001b[0m \u001b[0mTHETA\u001b[0m\u001b[0;34m\u001b[0m\u001b[0;34m\u001b[0m\u001b[0m\n\u001b[1;32m     25\u001b[0m     \u001b[0;32mfor\u001b[0m \u001b[0midx\u001b[0m\u001b[0;34m,\u001b[0m\u001b[0menemy\u001b[0m \u001b[0;32min\u001b[0m \u001b[0menumerate\u001b[0m\u001b[0;34m(\u001b[0m\u001b[0menemyAI\u001b[0m\u001b[0;34m)\u001b[0m\u001b[0;34m:\u001b[0m\u001b[0;34m\u001b[0m\u001b[0;34m\u001b[0m\u001b[0m\n",
            "\u001b[0;32m<ipython-input-38-45c24b8dea88>\u001b[0m in \u001b[0;36mtrainAI\u001b[0;34m(enemyAI, theta, itsToTrain)\u001b[0m\n\u001b[1;32m      9\u001b[0m   \u001b[0;32mfor\u001b[0m \u001b[0mx\u001b[0m \u001b[0;32min\u001b[0m \u001b[0menemyAI\u001b[0m\u001b[0;34m:\u001b[0m\u001b[0;34m\u001b[0m\u001b[0;34m\u001b[0m\u001b[0m\n\u001b[1;32m     10\u001b[0m     \u001b[0;32mfor\u001b[0m \u001b[0my\u001b[0m \u001b[0;32min\u001b[0m \u001b[0mrange\u001b[0m\u001b[0;34m(\u001b[0m\u001b[0mitsToTrain\u001b[0m\u001b[0;34m)\u001b[0m\u001b[0;34m:\u001b[0m\u001b[0;34m\u001b[0m\u001b[0;34m\u001b[0m\u001b[0m\n\u001b[0;32m---> 11\u001b[0;31m       \u001b[0mtheta\u001b[0m\u001b[0;34m,\u001b[0m \u001b[0mplayerStateRecord\u001b[0m\u001b[0;34m,\u001b[0m \u001b[0mplayerActionRecord\u001b[0m\u001b[0;34m,\u001b[0m \u001b[0mreward\u001b[0m \u001b[0;34m=\u001b[0m \u001b[0msimluateToTrain\u001b[0m\u001b[0;34m(\u001b[0m\u001b[0mx\u001b[0m\u001b[0;34m,\u001b[0m\u001b[0mtheta\u001b[0m\u001b[0;34m)\u001b[0m\u001b[0;34m\u001b[0m\u001b[0;34m\u001b[0m\u001b[0m\n\u001b[0m\u001b[1;32m     12\u001b[0m       \u001b[0mtheta\u001b[0m \u001b[0;34m=\u001b[0m \u001b[0mchangeTheta\u001b[0m\u001b[0;34m(\u001b[0m\u001b[0mtheta\u001b[0m\u001b[0;34m,\u001b[0m \u001b[0mplayerStateRecord\u001b[0m\u001b[0;34m,\u001b[0m \u001b[0mplayerActionRecord\u001b[0m\u001b[0;34m,\u001b[0m \u001b[0mreward\u001b[0m\u001b[0;34m)\u001b[0m\u001b[0;34m\u001b[0m\u001b[0;34m\u001b[0m\u001b[0m\n\u001b[1;32m     13\u001b[0m   \u001b[0;32mreturn\u001b[0m\u001b[0;34m(\u001b[0m\u001b[0mtheta\u001b[0m\u001b[0;34m)\u001b[0m\u001b[0;34m\u001b[0m\u001b[0;34m\u001b[0m\u001b[0m\n",
            "\u001b[0;32m<ipython-input-37-079a05ede6c4>\u001b[0m in \u001b[0;36msimluateToTrain\u001b[0;34m(enemyAI, theta, N_PLAYERS, N_COL_TO_WIN, N_MAX_RUNNERS, PLAYER_COL_STATE_INIT, learningRate)\u001b[0m\n\u001b[1;32m     53\u001b[0m         \u001b[0;32mif\u001b[0m \u001b[0mrunner_legal\u001b[0m\u001b[0;34m[\u001b[0m\u001b[0mchoice_index\u001b[0m\u001b[0;34m]\u001b[0m \u001b[0;34m==\u001b[0m \u001b[0;32mFalse\u001b[0m\u001b[0;34m:\u001b[0m\u001b[0;34m\u001b[0m\u001b[0;34m\u001b[0m\u001b[0m\n\u001b[1;32m     54\u001b[0m           \u001b[0mnot_busted_state\u001b[0m \u001b[0;34m=\u001b[0m \u001b[0;32mFalse\u001b[0m\u001b[0;34m\u001b[0m\u001b[0;34m\u001b[0m\u001b[0m\n\u001b[0;32m---> 55\u001b[0;31m         \u001b[0mrunner_col_state\u001b[0m \u001b[0;34m=\u001b[0m \u001b[0mrunner_choices\u001b[0m\u001b[0;34m[\u001b[0m\u001b[0mchoice_index\u001b[0m\u001b[0;34m]\u001b[0m\u001b[0;34m\u001b[0m\u001b[0;34m\u001b[0m\u001b[0m\n\u001b[0m\u001b[1;32m     56\u001b[0m       \u001b[0mroll_again_state\u001b[0m \u001b[0;34m=\u001b[0m \u001b[0mroll_again_state\u001b[0m \u001b[0;32mand\u001b[0m \u001b[0mnot_busted_state\u001b[0m\u001b[0;34m\u001b[0m\u001b[0;34m\u001b[0m\u001b[0m\n\u001b[1;32m     57\u001b[0m     \u001b[0;31m# resolves turn\u001b[0m\u001b[0;34m\u001b[0m\u001b[0;34m\u001b[0m\u001b[0;34m\u001b[0m\u001b[0m\n",
            "\u001b[0;32m/usr/local/lib/python3.7/dist-packages/jax/_src/numpy/lax_numpy.py\u001b[0m in \u001b[0;36m_rewriting_take\u001b[0;34m(arr, idx, indices_are_sorted, unique_indices, mode, fill_value)\u001b[0m\n\u001b[1;32m   4251\u001b[0m   \u001b[0mtreedef\u001b[0m\u001b[0;34m,\u001b[0m \u001b[0mstatic_idx\u001b[0m\u001b[0;34m,\u001b[0m \u001b[0mdynamic_idx\u001b[0m \u001b[0;34m=\u001b[0m \u001b[0m_split_index_for_jit\u001b[0m\u001b[0;34m(\u001b[0m\u001b[0midx\u001b[0m\u001b[0;34m,\u001b[0m \u001b[0marr\u001b[0m\u001b[0;34m.\u001b[0m\u001b[0mshape\u001b[0m\u001b[0;34m)\u001b[0m\u001b[0;34m\u001b[0m\u001b[0;34m\u001b[0m\u001b[0m\n\u001b[1;32m   4252\u001b[0m   return _gather(arr, treedef, static_idx, dynamic_idx, indices_are_sorted,\n\u001b[0;32m-> 4253\u001b[0;31m                  unique_indices, mode, fill_value)\n\u001b[0m\u001b[1;32m   4254\u001b[0m \u001b[0;34m\u001b[0m\u001b[0m\n\u001b[1;32m   4255\u001b[0m \u001b[0;31m# TODO(phawkins): re-enable jit after fixing excessive recompilation for\u001b[0m\u001b[0;34m\u001b[0m\u001b[0;34m\u001b[0m\u001b[0;34m\u001b[0m\u001b[0m\n",
            "\u001b[0;32m/usr/local/lib/python3.7/dist-packages/jax/_src/numpy/lax_numpy.py\u001b[0m in \u001b[0;36m_gather\u001b[0;34m(arr, treedef, static_idx, dynamic_idx, indices_are_sorted, unique_indices, mode, fill_value)\u001b[0m\n\u001b[1;32m   4259\u001b[0m             unique_indices, mode, fill_value):\n\u001b[1;32m   4260\u001b[0m   \u001b[0midx\u001b[0m \u001b[0;34m=\u001b[0m \u001b[0m_merge_static_and_dynamic_indices\u001b[0m\u001b[0;34m(\u001b[0m\u001b[0mtreedef\u001b[0m\u001b[0;34m,\u001b[0m \u001b[0mstatic_idx\u001b[0m\u001b[0;34m,\u001b[0m \u001b[0mdynamic_idx\u001b[0m\u001b[0;34m)\u001b[0m\u001b[0;34m\u001b[0m\u001b[0;34m\u001b[0m\u001b[0m\n\u001b[0;32m-> 4261\u001b[0;31m   \u001b[0mindexer\u001b[0m \u001b[0;34m=\u001b[0m \u001b[0m_index_to_gather\u001b[0m\u001b[0;34m(\u001b[0m\u001b[0mshape\u001b[0m\u001b[0;34m(\u001b[0m\u001b[0marr\u001b[0m\u001b[0;34m)\u001b[0m\u001b[0;34m,\u001b[0m \u001b[0midx\u001b[0m\u001b[0;34m)\u001b[0m  \u001b[0;31m# shared with _scatter_update\u001b[0m\u001b[0;34m\u001b[0m\u001b[0;34m\u001b[0m\u001b[0m\n\u001b[0m\u001b[1;32m   4262\u001b[0m   \u001b[0my\u001b[0m \u001b[0;34m=\u001b[0m \u001b[0marr\u001b[0m\u001b[0;34m\u001b[0m\u001b[0;34m\u001b[0m\u001b[0m\n\u001b[1;32m   4263\u001b[0m \u001b[0;34m\u001b[0m\u001b[0m\n",
            "\u001b[0;32m/usr/local/lib/python3.7/dist-packages/jax/_src/numpy/lax_numpy.py\u001b[0m in \u001b[0;36m_index_to_gather\u001b[0;34m(x_shape, idx, normalize_indices)\u001b[0m\n\u001b[1;32m   4459\u001b[0m         \u001b[0;31m# XLA gives error when indexing into an axis of size 0\u001b[0m\u001b[0;34m\u001b[0m\u001b[0;34m\u001b[0m\u001b[0;34m\u001b[0m\u001b[0m\n\u001b[1;32m   4460\u001b[0m         \u001b[0;32mraise\u001b[0m \u001b[0mIndexError\u001b[0m\u001b[0;34m(\u001b[0m\u001b[0;34mf\"index is out of bounds for axis {x_axis} with size 0\"\u001b[0m\u001b[0;34m)\u001b[0m\u001b[0;34m\u001b[0m\u001b[0;34m\u001b[0m\u001b[0m\n\u001b[0;32m-> 4461\u001b[0;31m       \u001b[0mi\u001b[0m \u001b[0;34m=\u001b[0m \u001b[0m_normalize_index\u001b[0m\u001b[0;34m(\u001b[0m\u001b[0mi\u001b[0m\u001b[0;34m,\u001b[0m \u001b[0mx_shape\u001b[0m\u001b[0;34m[\u001b[0m\u001b[0mx_axis\u001b[0m\u001b[0;34m]\u001b[0m\u001b[0;34m)\u001b[0m \u001b[0;32mif\u001b[0m \u001b[0mnormalize_indices\u001b[0m \u001b[0;32melse\u001b[0m \u001b[0mi\u001b[0m\u001b[0;34m\u001b[0m\u001b[0;34m\u001b[0m\u001b[0m\n\u001b[0m\u001b[1;32m   4462\u001b[0m       \u001b[0mi\u001b[0m \u001b[0;34m=\u001b[0m \u001b[0mlax\u001b[0m\u001b[0;34m.\u001b[0m\u001b[0mconvert_element_type\u001b[0m\u001b[0;34m(\u001b[0m\u001b[0mi\u001b[0m\u001b[0;34m,\u001b[0m \u001b[0mindex_dtype\u001b[0m\u001b[0;34m)\u001b[0m\u001b[0;34m\u001b[0m\u001b[0;34m\u001b[0m\u001b[0m\n\u001b[1;32m   4463\u001b[0m       \u001b[0mgather_indices\u001b[0m\u001b[0;34m.\u001b[0m\u001b[0mappend\u001b[0m\u001b[0;34m(\u001b[0m\u001b[0;34m(\u001b[0m\u001b[0mi\u001b[0m\u001b[0;34m,\u001b[0m \u001b[0mlen\u001b[0m\u001b[0;34m(\u001b[0m\u001b[0mgather_indices_shape\u001b[0m\u001b[0;34m)\u001b[0m\u001b[0;34m)\u001b[0m\u001b[0;34m)\u001b[0m\u001b[0;34m\u001b[0m\u001b[0;34m\u001b[0m\u001b[0m\n",
            "\u001b[0;32m/usr/local/lib/python3.7/dist-packages/jax/_src/numpy/lax_numpy.py\u001b[0m in \u001b[0;36m_normalize_index\u001b[0;34m(index, axis_size)\u001b[0m\n\u001b[1;32m   4056\u001b[0m   return lax.select(\n\u001b[1;32m   4057\u001b[0m     \u001b[0mlax\u001b[0m\u001b[0;34m.\u001b[0m\u001b[0mlt\u001b[0m\u001b[0;34m(\u001b[0m\u001b[0mindex\u001b[0m\u001b[0;34m,\u001b[0m \u001b[0m_lax_const\u001b[0m\u001b[0;34m(\u001b[0m\u001b[0mindex\u001b[0m\u001b[0;34m,\u001b[0m \u001b[0;36m0\u001b[0m\u001b[0;34m)\u001b[0m\u001b[0;34m)\u001b[0m\u001b[0;34m,\u001b[0m\u001b[0;34m\u001b[0m\u001b[0;34m\u001b[0m\u001b[0m\n\u001b[0;32m-> 4058\u001b[0;31m     \u001b[0mlax\u001b[0m\u001b[0;34m.\u001b[0m\u001b[0madd\u001b[0m\u001b[0;34m(\u001b[0m\u001b[0mindex\u001b[0m\u001b[0;34m,\u001b[0m \u001b[0maxis_size_val\u001b[0m\u001b[0;34m)\u001b[0m\u001b[0;34m,\u001b[0m\u001b[0;34m\u001b[0m\u001b[0;34m\u001b[0m\u001b[0m\n\u001b[0m\u001b[1;32m   4059\u001b[0m     index)\n\u001b[1;32m   4060\u001b[0m \u001b[0;34m\u001b[0m\u001b[0m\n",
            "\u001b[0;32m/usr/local/lib/python3.7/dist-packages/jax/_src/lax/lax.py\u001b[0m in \u001b[0;36madd\u001b[0;34m(x, y)\u001b[0m\n\u001b[1;32m    401\u001b[0m \u001b[0;32mdef\u001b[0m \u001b[0madd\u001b[0m\u001b[0;34m(\u001b[0m\u001b[0mx\u001b[0m\u001b[0;34m:\u001b[0m \u001b[0mArray\u001b[0m\u001b[0;34m,\u001b[0m \u001b[0my\u001b[0m\u001b[0;34m:\u001b[0m \u001b[0mArray\u001b[0m\u001b[0;34m)\u001b[0m \u001b[0;34m->\u001b[0m \u001b[0mArray\u001b[0m\u001b[0;34m:\u001b[0m\u001b[0;34m\u001b[0m\u001b[0;34m\u001b[0m\u001b[0m\n\u001b[1;32m    402\u001b[0m   \u001b[0;34mr\"\"\"Elementwise addition: :math:`x + y`.\"\"\"\u001b[0m\u001b[0;34m\u001b[0m\u001b[0;34m\u001b[0m\u001b[0m\n\u001b[0;32m--> 403\u001b[0;31m   \u001b[0;32mreturn\u001b[0m \u001b[0madd_p\u001b[0m\u001b[0;34m.\u001b[0m\u001b[0mbind\u001b[0m\u001b[0;34m(\u001b[0m\u001b[0mx\u001b[0m\u001b[0;34m,\u001b[0m \u001b[0my\u001b[0m\u001b[0;34m)\u001b[0m\u001b[0;34m\u001b[0m\u001b[0;34m\u001b[0m\u001b[0m\n\u001b[0m\u001b[1;32m    404\u001b[0m \u001b[0;34m\u001b[0m\u001b[0m\n\u001b[1;32m    405\u001b[0m \u001b[0;32mdef\u001b[0m \u001b[0msub\u001b[0m\u001b[0;34m(\u001b[0m\u001b[0mx\u001b[0m\u001b[0;34m:\u001b[0m \u001b[0mArray\u001b[0m\u001b[0;34m,\u001b[0m \u001b[0my\u001b[0m\u001b[0;34m:\u001b[0m \u001b[0mArray\u001b[0m\u001b[0;34m)\u001b[0m \u001b[0;34m->\u001b[0m \u001b[0mArray\u001b[0m\u001b[0;34m:\u001b[0m\u001b[0;34m\u001b[0m\u001b[0;34m\u001b[0m\u001b[0m\n",
            "\u001b[0;32m/usr/local/lib/python3.7/dist-packages/jax/core.py\u001b[0m in \u001b[0;36mbind\u001b[0;34m(self, *args, **params)\u001b[0m\n\u001b[1;32m    284\u001b[0m     assert (not config.jax_enable_checks or\n\u001b[1;32m    285\u001b[0m             all(isinstance(arg, Tracer) or valid_jaxtype(arg) for arg in args)), args\n\u001b[0;32m--> 286\u001b[0;31m     \u001b[0;32mreturn\u001b[0m \u001b[0mself\u001b[0m\u001b[0;34m.\u001b[0m\u001b[0mbind_with_trace\u001b[0m\u001b[0;34m(\u001b[0m\u001b[0mfind_top_trace\u001b[0m\u001b[0;34m(\u001b[0m\u001b[0margs\u001b[0m\u001b[0;34m)\u001b[0m\u001b[0;34m,\u001b[0m \u001b[0margs\u001b[0m\u001b[0;34m,\u001b[0m \u001b[0mparams\u001b[0m\u001b[0;34m)\u001b[0m\u001b[0;34m\u001b[0m\u001b[0;34m\u001b[0m\u001b[0m\n\u001b[0m\u001b[1;32m    287\u001b[0m \u001b[0;34m\u001b[0m\u001b[0m\n\u001b[1;32m    288\u001b[0m   \u001b[0;32mdef\u001b[0m \u001b[0mbind_with_trace\u001b[0m\u001b[0;34m(\u001b[0m\u001b[0mself\u001b[0m\u001b[0;34m,\u001b[0m \u001b[0mtrace\u001b[0m\u001b[0;34m,\u001b[0m \u001b[0margs\u001b[0m\u001b[0;34m,\u001b[0m \u001b[0mparams\u001b[0m\u001b[0;34m)\u001b[0m\u001b[0;34m:\u001b[0m\u001b[0;34m\u001b[0m\u001b[0;34m\u001b[0m\u001b[0m\n",
            "\u001b[0;32m/usr/local/lib/python3.7/dist-packages/jax/core.py\u001b[0m in \u001b[0;36mfind_top_trace\u001b[0;34m(xs)\u001b[0m\n\u001b[1;32m    940\u001b[0m   top_main = (dynamic if top_main is None or dynamic.level > top_main.level\n\u001b[1;32m    941\u001b[0m               else top_main)\n\u001b[0;32m--> 942\u001b[0;31m   \u001b[0;32mreturn\u001b[0m \u001b[0mtop_main\u001b[0m \u001b[0;32mand\u001b[0m \u001b[0mtop_main\u001b[0m\u001b[0;34m.\u001b[0m\u001b[0mwith_cur_sublevel\u001b[0m\u001b[0;34m(\u001b[0m\u001b[0;34m)\u001b[0m  \u001b[0;31m# type: ignore\u001b[0m\u001b[0;34m\u001b[0m\u001b[0;34m\u001b[0m\u001b[0m\n\u001b[0m\u001b[1;32m    943\u001b[0m \u001b[0;34m\u001b[0m\u001b[0m\n\u001b[1;32m    944\u001b[0m \u001b[0;34m\u001b[0m\u001b[0m\n",
            "\u001b[0;32m/usr/local/lib/python3.7/dist-packages/jax/core.py\u001b[0m in \u001b[0;36mwith_cur_sublevel\u001b[0;34m(self)\u001b[0m\n\u001b[1;32m    654\u001b[0m \u001b[0;34m\u001b[0m\u001b[0m\n\u001b[1;32m    655\u001b[0m   \u001b[0;32mdef\u001b[0m \u001b[0mwith_cur_sublevel\u001b[0m\u001b[0;34m(\u001b[0m\u001b[0mself\u001b[0m\u001b[0;34m)\u001b[0m\u001b[0;34m:\u001b[0m\u001b[0;34m\u001b[0m\u001b[0;34m\u001b[0m\u001b[0m\n\u001b[0;32m--> 656\u001b[0;31m     \u001b[0;32mreturn\u001b[0m \u001b[0mself\u001b[0m\u001b[0;34m.\u001b[0m\u001b[0mtrace_type\u001b[0m\u001b[0;34m(\u001b[0m\u001b[0mself\u001b[0m\u001b[0;34m,\u001b[0m \u001b[0mcur_sublevel\u001b[0m\u001b[0;34m(\u001b[0m\u001b[0;34m)\u001b[0m\u001b[0;34m,\u001b[0m \u001b[0;34m**\u001b[0m\u001b[0mself\u001b[0m\u001b[0;34m.\u001b[0m\u001b[0mpayload\u001b[0m\u001b[0;34m)\u001b[0m\u001b[0;34m\u001b[0m\u001b[0;34m\u001b[0m\u001b[0m\n\u001b[0m\u001b[1;32m    657\u001b[0m \u001b[0;34m\u001b[0m\u001b[0m\n\u001b[1;32m    658\u001b[0m \u001b[0;32mclass\u001b[0m \u001b[0mTraceStack\u001b[0m\u001b[0;34m:\u001b[0m\u001b[0;34m\u001b[0m\u001b[0;34m\u001b[0m\u001b[0m\n",
            "\u001b[0;32m/usr/local/lib/python3.7/dist-packages/jax/core.py\u001b[0m in \u001b[0;36mcur_sublevel\u001b[0;34m()\u001b[0m\n\u001b[1;32m    760\u001b[0m \u001b[0;34m\u001b[0m\u001b[0m\n\u001b[1;32m    761\u001b[0m \u001b[0;32mdef\u001b[0m \u001b[0mcur_sublevel\u001b[0m\u001b[0;34m(\u001b[0m\u001b[0;34m)\u001b[0m \u001b[0;34m->\u001b[0m \u001b[0mSublevel\u001b[0m\u001b[0;34m:\u001b[0m\u001b[0;34m\u001b[0m\u001b[0;34m\u001b[0m\u001b[0m\n\u001b[0;32m--> 762\u001b[0;31m   \u001b[0;32mreturn\u001b[0m \u001b[0mthread_local_state\u001b[0m\u001b[0;34m.\u001b[0m\u001b[0mtrace_state\u001b[0m\u001b[0;34m.\u001b[0m\u001b[0msubstack\u001b[0m\u001b[0;34m[\u001b[0m\u001b[0;34m-\u001b[0m\u001b[0;36m1\u001b[0m\u001b[0;34m]\u001b[0m\u001b[0;34m\u001b[0m\u001b[0;34m\u001b[0m\u001b[0m\n\u001b[0m\u001b[1;32m    763\u001b[0m \u001b[0;34m\u001b[0m\u001b[0m\n\u001b[1;32m    764\u001b[0m TRACER_LEAK_DEBUGGER_WARNING = \"\"\"\\\n",
            "\u001b[0;31mKeyboardInterrupt\u001b[0m: "
          ]
        }
      ],
      "source": [
        "enemyAI = [cantStopCode.pure_random_AI, cantStopCode.random_timid_AI, cantStopCode.runner_weights_AI]\n",
        "theta = initTheta(theta)\n",
        "THETA = theta\n",
        "visualizeTheta(theta)\n",
        "trainVals = [0,10,50]\n",
        "GAMENUM = 10\n",
        "theta = trainAndCheckProgress(theta,enemyAI,trainVals,aiDecision)"
      ]
    },
    {
      "cell_type": "markdown",
      "metadata": {
        "id": "uvaT-ho6QqKI"
      },
      "source": [
        "# Okay what happened.\n",
        "\n"
      ]
    },
    {
      "cell_type": "markdown",
      "metadata": {
        "id": "cSHT55Ojs6Hy"
      },
      "source": [
        "It seems that with the current set up, our AI basically loses 99% of the time. \n",
        "After a significant amount of thinking and reworking the problem, this can be fixed with one simple change. Force our AI actor to choose the best option presented to us. This comes from a very simple difference. \n",
        "### Unlike before, we can directly change our probabilties through our policy functions.\n",
        "The following code block changes this one line and runs the same code. "
      ]
    },
    {
      "cell_type": "code",
      "execution_count": null,
      "metadata": {
        "id": "eDci3MnDf1dW"
      },
      "outputs": [],
      "source": [
        "# The actor which spits a choice based upon its probability distribution\n",
        "def aiDecision(active_player_index, player_col_state, choices, legal, random_key, theta = THETA, PLAYER_COL_STATE_INIT=jnp.array([3,5,7,9,11,13,11,9,7,5,3])):\n",
        "  # Inputs:\n",
        "  # same as earlier.\n",
        "  # Outputs:\n",
        "  # choice_index; an integer represetning the chosen option\n",
        "  # roll_again; a bollean; representing if the player ends its turn\n",
        "  thetaToChooseFrom = aiChoiceProbabilistic(choices,legal,theta)\n",
        "  choice_index =  jnp.argmax(thetaToChooseFrom)\n",
        "  roll_again = random.random() > aiRollProbabilistic(choices, choice_index, theta)[0] # if = 1, then approx 70% to roll again\n",
        "  return (choice_index, roll_again)\n"
      ]
    },
    {
      "cell_type": "code",
      "execution_count": null,
      "metadata": {
        "colab": {
          "base_uri": "https://localhost:8080/",
          "height": 870
        },
        "id": "46S-XQWLRBsX",
        "outputId": "26c52a8c-f1a7-4941-88d6-2ed6e8bcb3b2"
      },
      "outputs": [
        {
          "output_type": "display_data",
          "data": {
            "text/plain": [
              "<Figure size 432x288 with 1 Axes>"
            ],
            "image/png": "[encoded data removed]"
          },
          "metadata": {
            "needs_background": "light"
          }
        },
        {
          "output_type": "stream",
          "name": "stdout",
          "text": [
            "2.0\n",
            "Below are results for 0 training sessoins:\n",
            "Against AI 0\n",
            "0 % done\n",
            "10 % done\n",
            "20 % done\n",
            "30 % done\n",
            "40 % done\n",
            "50 % done\n",
            "60 % done\n"
          ]
        },
        {
          "output_type": "error",
          "ename": "KeyboardInterrupt",
          "evalue": "ignored",
          "traceback": [
            "\u001b[0;31m---------------------------------------------------------------------------\u001b[0m",
            "\u001b[0;31mKeyboardInterrupt\u001b[0m                         Traceback (most recent call last)",
            "\u001b[0;32m<ipython-input-72-2c2ff32260b8>\u001b[0m in \u001b[0;36m<module>\u001b[0;34m()\u001b[0m\n\u001b[1;32m      4\u001b[0m \u001b[0mvisualizeTheta\u001b[0m\u001b[0;34m(\u001b[0m\u001b[0mtheta\u001b[0m\u001b[0;34m)\u001b[0m\u001b[0;34m\u001b[0m\u001b[0;34m\u001b[0m\u001b[0m\n\u001b[1;32m      5\u001b[0m \u001b[0mtrainVals\u001b[0m \u001b[0;34m=\u001b[0m \u001b[0;34m[\u001b[0m\u001b[0;36m0\u001b[0m\u001b[0;34m,\u001b[0m\u001b[0;36m10\u001b[0m\u001b[0;34m,\u001b[0m\u001b[0;36m50\u001b[0m\u001b[0;34m,\u001b[0m\u001b[0;36m100\u001b[0m\u001b[0;34m,\u001b[0m\u001b[0;36m200\u001b[0m\u001b[0;34m]\u001b[0m\u001b[0;34m\u001b[0m\u001b[0;34m\u001b[0m\u001b[0m\n\u001b[0;32m----> 6\u001b[0;31m \u001b[0mtheta\u001b[0m \u001b[0;34m=\u001b[0m \u001b[0mtrainAndCheckProgress\u001b[0m\u001b[0;34m(\u001b[0m\u001b[0mtheta\u001b[0m\u001b[0;34m,\u001b[0m\u001b[0menemyAI\u001b[0m\u001b[0;34m,\u001b[0m\u001b[0mtrainVals\u001b[0m\u001b[0;34m,\u001b[0m\u001b[0maiDecision\u001b[0m\u001b[0;34m)\u001b[0m\u001b[0;34m\u001b[0m\u001b[0;34m\u001b[0m\u001b[0m\n\u001b[0m\u001b[1;32m      7\u001b[0m \u001b[0mnp\u001b[0m\u001b[0;34m.\u001b[0m\u001b[0msavetxt\u001b[0m\u001b[0;34m(\u001b[0m\u001b[0;34m'satVal.txt'\u001b[0m\u001b[0;34m,\u001b[0m \u001b[0mtheta\u001b[0m\u001b[0;34m,\u001b[0m \u001b[0mfmt\u001b[0m\u001b[0;34m=\u001b[0m\u001b[0;34m'%f'\u001b[0m\u001b[0;34m)\u001b[0m\u001b[0;34m\u001b[0m\u001b[0;34m\u001b[0m\u001b[0m\n",
            "\u001b[0;32m<ipython-input-70-45c24b8dea88>\u001b[0m in \u001b[0;36mtrainAndCheckProgress\u001b[0;34m(theta, enemyAI, trainVals, aiPolicy)\u001b[0m\n\u001b[1;32m     25\u001b[0m     \u001b[0;32mfor\u001b[0m \u001b[0midx\u001b[0m\u001b[0;34m,\u001b[0m\u001b[0menemy\u001b[0m \u001b[0;32min\u001b[0m \u001b[0menumerate\u001b[0m\u001b[0;34m(\u001b[0m\u001b[0menemyAI\u001b[0m\u001b[0;34m)\u001b[0m\u001b[0;34m:\u001b[0m\u001b[0;34m\u001b[0m\u001b[0;34m\u001b[0m\u001b[0m\n\u001b[1;32m     26\u001b[0m       \u001b[0mprint\u001b[0m\u001b[0;34m(\u001b[0m\u001b[0;34mf\"Against AI {idx}\"\u001b[0m\u001b[0;34m)\u001b[0m\u001b[0;34m\u001b[0m\u001b[0;34m\u001b[0m\u001b[0m\n\u001b[0;32m---> 27\u001b[0;31m       \u001b[0mcantStopCode\u001b[0m\u001b[0;34m.\u001b[0m\u001b[0mplay_N_games\u001b[0m\u001b[0;34m(\u001b[0m\u001b[0;36m10\u001b[0m\u001b[0;34m,\u001b[0m\u001b[0;34m[\u001b[0m\u001b[0maiPolicy\u001b[0m\u001b[0;34m,\u001b[0m\u001b[0menemy\u001b[0m\u001b[0;34m]\u001b[0m\u001b[0;34m)\u001b[0m \u001b[0;31m# we renamed this to aiPolicy, since its just the function theta is attached to\u001b[0m\u001b[0;34m\u001b[0m\u001b[0;34m\u001b[0m\u001b[0m\n\u001b[0m\u001b[1;32m     28\u001b[0m     \u001b[0mvisualizeTheta\u001b[0m\u001b[0;34m(\u001b[0m\u001b[0mtheta\u001b[0m\u001b[0;34m)\u001b[0m\u001b[0;34m\u001b[0m\u001b[0;34m\u001b[0m\u001b[0m\n\u001b[1;32m     29\u001b[0m     \u001b[0mTHETA\u001b[0m \u001b[0;34m=\u001b[0m \u001b[0mtheta\u001b[0m \u001b[0;31m# this makes it so we play against the OLDER version of aiDecision\u001b[0m\u001b[0;34m\u001b[0m\u001b[0;34m\u001b[0m\u001b[0m\n",
            "\u001b[0;32m/content/cantStopCode.py\u001b[0m in \u001b[0;36mplay_N_games\u001b[0;34m(N_games, AIs, N_PLAYERS)\u001b[0m\n\u001b[1;32m    523\u001b[0m     \u001b[0;32mif\u001b[0m \u001b[0mi\u001b[0m \u001b[0;34m%\u001b[0m \u001b[0;34m(\u001b[0m\u001b[0mN_games\u001b[0m\u001b[0;34m/\u001b[0m\u001b[0;36m10\u001b[0m\u001b[0;34m)\u001b[0m \u001b[0;34m==\u001b[0m \u001b[0;36m0\u001b[0m\u001b[0;34m:\u001b[0m\u001b[0;34m\u001b[0m\u001b[0;34m\u001b[0m\u001b[0m\n\u001b[1;32m    524\u001b[0m       \u001b[0mprint\u001b[0m\u001b[0;34m(\u001b[0m \u001b[0mint\u001b[0m\u001b[0;34m(\u001b[0m\u001b[0;36m100\u001b[0m\u001b[0;34m*\u001b[0m\u001b[0;34m(\u001b[0m\u001b[0mi\u001b[0m \u001b[0;34m/\u001b[0m \u001b[0mN_games\u001b[0m\u001b[0;34m)\u001b[0m\u001b[0;34m)\u001b[0m\u001b[0;34m,\u001b[0m \u001b[0;34m\"% done\"\u001b[0m\u001b[0;34m)\u001b[0m\u001b[0;34m\u001b[0m\u001b[0;34m\u001b[0m\u001b[0m\n\u001b[0;32m--> 525\u001b[0;31m     \u001b[0mwinners\u001b[0m \u001b[0;34m+=\u001b[0m \u001b[0msimulate_game\u001b[0m\u001b[0;34m(\u001b[0m\u001b[0mAIs\u001b[0m\u001b[0;34m)\u001b[0m\u001b[0;34m\u001b[0m\u001b[0;34m\u001b[0m\u001b[0m\n\u001b[0m\u001b[1;32m    526\u001b[0m   \u001b[0mprint\u001b[0m\u001b[0;34m(\u001b[0m\u001b[0;34m\"After \"\u001b[0m\u001b[0;34m,\u001b[0m \u001b[0mN_games\u001b[0m\u001b[0;34m,\u001b[0m \u001b[0;34m\" winners are \"\u001b[0m\u001b[0;34m,\u001b[0m\u001b[0mwinners\u001b[0m\u001b[0;34m)\u001b[0m\u001b[0;34m\u001b[0m\u001b[0;34m\u001b[0m\u001b[0m\n\u001b[1;32m    527\u001b[0m \u001b[0;34m\u001b[0m\u001b[0m\n",
            "\u001b[0;32m/content/cantStopCode.py\u001b[0m in \u001b[0;36msimulate_game\u001b[0;34m(Player_AI, Verbose, random_key, Starting_Player, N_PLAYERS, N_COL_TO_WIN, N_MAX_RUNNERS, PLAYER_COL_STATE_INIT)\u001b[0m\n\u001b[1;32m    476\u001b[0m         \u001b[0;31m#Note that we run this even for ones where we've already busted (we just make sure to do nothing with this data in that case)\u001b[0m\u001b[0;34m\u001b[0m\u001b[0;34m\u001b[0m\u001b[0;34m\u001b[0m\u001b[0m\n\u001b[1;32m    477\u001b[0m         \u001b[0mactive_player_AI\u001b[0m \u001b[0;34m=\u001b[0m \u001b[0mPlayer_AI\u001b[0m\u001b[0;34m[\u001b[0m\u001b[0mactive_player_index\u001b[0m\u001b[0;34m]\u001b[0m\u001b[0;34m\u001b[0m\u001b[0;34m\u001b[0m\u001b[0m\n\u001b[0;32m--> 478\u001b[0;31m         \u001b[0mchoice_index\u001b[0m\u001b[0;34m,\u001b[0m \u001b[0mroll_again_state\u001b[0m \u001b[0;34m=\u001b[0m \u001b[0mactive_player_AI\u001b[0m\u001b[0;34m(\u001b[0m\u001b[0mactive_player_index\u001b[0m\u001b[0;34m,\u001b[0m \u001b[0mplayer_col_state\u001b[0m\u001b[0;34m,\u001b[0m \u001b[0mrunner_choices\u001b[0m\u001b[0;34m,\u001b[0m \u001b[0mrunner_legal\u001b[0m\u001b[0;34m,\u001b[0m \u001b[0msubkey_2\u001b[0m\u001b[0;34m)\u001b[0m\u001b[0;34m\u001b[0m\u001b[0;34m\u001b[0m\u001b[0m\n\u001b[0m\u001b[1;32m    479\u001b[0m \u001b[0;34m\u001b[0m\u001b[0m\n\u001b[1;32m    480\u001b[0m         \u001b[0;31m#If you attempt to choose an illegal move, we count it the same as if you have busted!\u001b[0m\u001b[0;34m\u001b[0m\u001b[0;34m\u001b[0m\u001b[0;34m\u001b[0m\u001b[0m\n",
            "\u001b[0;32m<ipython-input-71-90a6e51ec644>\u001b[0m in \u001b[0;36maiDecision\u001b[0;34m(active_player_index, player_col_state, choices, legal, random_key, theta, PLAYER_COL_STATE_INIT)\u001b[0m\n\u001b[1;32m      8\u001b[0m   \u001b[0mthetaToChooseFrom\u001b[0m \u001b[0;34m=\u001b[0m \u001b[0maiChoiceProbabilistic\u001b[0m\u001b[0;34m(\u001b[0m\u001b[0mchoices\u001b[0m\u001b[0;34m,\u001b[0m\u001b[0mlegal\u001b[0m\u001b[0;34m,\u001b[0m\u001b[0mtheta\u001b[0m\u001b[0;34m)\u001b[0m\u001b[0;34m\u001b[0m\u001b[0;34m\u001b[0m\u001b[0m\n\u001b[1;32m      9\u001b[0m   \u001b[0mchoice_index\u001b[0m \u001b[0;34m=\u001b[0m  \u001b[0mjnp\u001b[0m\u001b[0;34m.\u001b[0m\u001b[0margmax\u001b[0m\u001b[0;34m(\u001b[0m\u001b[0mthetaToChooseFrom\u001b[0m\u001b[0;34m)\u001b[0m\u001b[0;34m\u001b[0m\u001b[0;34m\u001b[0m\u001b[0m\n\u001b[0;32m---> 10\u001b[0;31m   \u001b[0mroll_again\u001b[0m \u001b[0;34m=\u001b[0m \u001b[0mrandom\u001b[0m\u001b[0;34m.\u001b[0m\u001b[0mrandom\u001b[0m\u001b[0;34m(\u001b[0m\u001b[0;34m)\u001b[0m \u001b[0;34m>\u001b[0m \u001b[0maiRollProbabilistic\u001b[0m\u001b[0;34m(\u001b[0m\u001b[0mchoices\u001b[0m\u001b[0;34m,\u001b[0m \u001b[0mchoice_index\u001b[0m\u001b[0;34m,\u001b[0m \u001b[0mtheta\u001b[0m\u001b[0;34m)\u001b[0m\u001b[0;34m[\u001b[0m\u001b[0;36m0\u001b[0m\u001b[0;34m]\u001b[0m \u001b[0;31m# if = 1, then approx 70% to roll again\u001b[0m\u001b[0;34m\u001b[0m\u001b[0;34m\u001b[0m\u001b[0m\n\u001b[0m\u001b[1;32m     11\u001b[0m   \u001b[0;32mreturn\u001b[0m \u001b[0;34m(\u001b[0m\u001b[0mchoice_index\u001b[0m\u001b[0;34m,\u001b[0m \u001b[0mroll_again\u001b[0m\u001b[0;34m)\u001b[0m\u001b[0;34m\u001b[0m\u001b[0;34m\u001b[0m\u001b[0m\n",
            "\u001b[0;32m<ipython-input-66-4fbac437ff34>\u001b[0m in \u001b[0;36maiRollProbabilistic\u001b[0;34m(choices, choice_index, theta)\u001b[0m\n\u001b[1;32m     39\u001b[0m \u001b[0;31m# Outputs the prob dist for choosing to roll again\u001b[0m\u001b[0;34m\u001b[0m\u001b[0;34m\u001b[0m\u001b[0;34m\u001b[0m\u001b[0m\n\u001b[1;32m     40\u001b[0m \u001b[0;32mdef\u001b[0m \u001b[0maiRollProbabilistic\u001b[0m\u001b[0;34m(\u001b[0m\u001b[0mchoices\u001b[0m\u001b[0;34m,\u001b[0m \u001b[0mchoice_index\u001b[0m\u001b[0;34m,\u001b[0m \u001b[0mtheta\u001b[0m\u001b[0;34m)\u001b[0m\u001b[0;34m:\u001b[0m\u001b[0;34m\u001b[0m\u001b[0;34m\u001b[0m\u001b[0m\n\u001b[0;32m---> 41\u001b[0;31m   \u001b[0mscoredOptions\u001b[0m \u001b[0;34m=\u001b[0m \u001b[0;34m(\u001b[0m\u001b[0mchoices\u001b[0m \u001b[0;34m@\u001b[0m \u001b[0mtheta\u001b[0m\u001b[0;34m[\u001b[0m\u001b[0;36m0\u001b[0m\u001b[0;34m:\u001b[0m\u001b[0;36m11\u001b[0m\u001b[0;34m]\u001b[0m\u001b[0;34m)\u001b[0m\u001b[0;34m\u001b[0m\u001b[0;34m\u001b[0m\u001b[0m\n\u001b[0m\u001b[1;32m     42\u001b[0m   \u001b[0mrollAgainChance\u001b[0m \u001b[0;34m=\u001b[0m \u001b[0;34m(\u001b[0m\u001b[0mjnp\u001b[0m\u001b[0;34m.\u001b[0m\u001b[0marctan\u001b[0m\u001b[0;34m(\u001b[0m\u001b[0mscoredOptions\u001b[0m\u001b[0;34m[\u001b[0m\u001b[0mchoice_index\u001b[0m\u001b[0;34m]\u001b[0m \u001b[0;34m-\u001b[0m \u001b[0mtheta\u001b[0m\u001b[0;34m[\u001b[0m\u001b[0;36m11\u001b[0m\u001b[0;34m]\u001b[0m\u001b[0;34m)\u001b[0m \u001b[0;34m+\u001b[0m \u001b[0;36m1.5\u001b[0m\u001b[0;34m)\u001b[0m\u001b[0;34m/\u001b[0m\u001b[0;36m3\u001b[0m\u001b[0;31m# = ~ 0.04 if 3 behind the satisfy value .\u001b[0m\u001b[0;34m\u001b[0m\u001b[0;34m\u001b[0m\u001b[0m\n\u001b[1;32m     43\u001b[0m   \u001b[0;32mreturn\u001b[0m\u001b[0;34m(\u001b[0m\u001b[0;34m[\u001b[0m\u001b[0mrollAgainChance\u001b[0m\u001b[0;34m,\u001b[0m \u001b[0;36m1\u001b[0m \u001b[0;34m-\u001b[0m \u001b[0mrollAgainChance\u001b[0m\u001b[0;34m]\u001b[0m\u001b[0;34m)\u001b[0m\u001b[0;34m\u001b[0m\u001b[0;34m\u001b[0m\u001b[0m\n",
            "\u001b[0;32m/usr/local/lib/python3.7/dist-packages/jax/_src/numpy/lax_numpy.py\u001b[0m in \u001b[0;36m_rewriting_take\u001b[0;34m(arr, idx, indices_are_sorted, unique_indices, mode, fill_value)\u001b[0m\n\u001b[1;32m   4248\u001b[0m   \u001b[0;31m# All supported cases of indexing can be implemented as an XLA gather,\u001b[0m\u001b[0;34m\u001b[0m\u001b[0;34m\u001b[0m\u001b[0;34m\u001b[0m\u001b[0m\n\u001b[1;32m   4249\u001b[0m   \u001b[0;31m# followed by an optional reverse and broadcast_in_dim.\u001b[0m\u001b[0;34m\u001b[0m\u001b[0;34m\u001b[0m\u001b[0;34m\u001b[0m\u001b[0m\n\u001b[0;32m-> 4250\u001b[0;31m   \u001b[0marr\u001b[0m \u001b[0;34m=\u001b[0m \u001b[0masarray\u001b[0m\u001b[0;34m(\u001b[0m\u001b[0marr\u001b[0m\u001b[0;34m)\u001b[0m\u001b[0;34m\u001b[0m\u001b[0;34m\u001b[0m\u001b[0m\n\u001b[0m\u001b[1;32m   4251\u001b[0m   \u001b[0mtreedef\u001b[0m\u001b[0;34m,\u001b[0m \u001b[0mstatic_idx\u001b[0m\u001b[0;34m,\u001b[0m \u001b[0mdynamic_idx\u001b[0m \u001b[0;34m=\u001b[0m \u001b[0m_split_index_for_jit\u001b[0m\u001b[0;34m(\u001b[0m\u001b[0midx\u001b[0m\u001b[0;34m,\u001b[0m \u001b[0marr\u001b[0m\u001b[0;34m.\u001b[0m\u001b[0mshape\u001b[0m\u001b[0;34m)\u001b[0m\u001b[0;34m\u001b[0m\u001b[0;34m\u001b[0m\u001b[0m\n\u001b[1;32m   4252\u001b[0m   return _gather(arr, treedef, static_idx, dynamic_idx, indices_are_sorted,\n",
            "\u001b[0;32m/usr/local/lib/python3.7/dist-packages/jax/_src/numpy/lax_numpy.py\u001b[0m in \u001b[0;36masarray\u001b[0;34m(a, dtype, order)\u001b[0m\n\u001b[1;32m   2565\u001b[0m   \u001b[0mlax_internal\u001b[0m\u001b[0;34m.\u001b[0m\u001b[0m_check_user_dtype_supported\u001b[0m\u001b[0;34m(\u001b[0m\u001b[0mdtype\u001b[0m\u001b[0;34m,\u001b[0m \u001b[0;34m\"asarray\"\u001b[0m\u001b[0;34m)\u001b[0m\u001b[0;34m\u001b[0m\u001b[0;34m\u001b[0m\u001b[0m\n\u001b[1;32m   2566\u001b[0m   \u001b[0mdtype\u001b[0m \u001b[0;34m=\u001b[0m \u001b[0mdtypes\u001b[0m\u001b[0;34m.\u001b[0m\u001b[0mcanonicalize_dtype\u001b[0m\u001b[0;34m(\u001b[0m\u001b[0mdtype\u001b[0m\u001b[0;34m)\u001b[0m \u001b[0;32mif\u001b[0m \u001b[0mdtype\u001b[0m \u001b[0;32mis\u001b[0m \u001b[0;32mnot\u001b[0m \u001b[0;32mNone\u001b[0m \u001b[0;32melse\u001b[0m \u001b[0mdtype\u001b[0m\u001b[0;34m\u001b[0m\u001b[0;34m\u001b[0m\u001b[0m\n\u001b[0;32m-> 2567\u001b[0;31m   \u001b[0;32mreturn\u001b[0m \u001b[0marray\u001b[0m\u001b[0;34m(\u001b[0m\u001b[0ma\u001b[0m\u001b[0;34m,\u001b[0m \u001b[0mdtype\u001b[0m\u001b[0;34m=\u001b[0m\u001b[0mdtype\u001b[0m\u001b[0;34m,\u001b[0m \u001b[0mcopy\u001b[0m\u001b[0;34m=\u001b[0m\u001b[0;32mFalse\u001b[0m\u001b[0;34m,\u001b[0m \u001b[0morder\u001b[0m\u001b[0;34m=\u001b[0m\u001b[0morder\u001b[0m\u001b[0;34m)\u001b[0m\u001b[0;34m\u001b[0m\u001b[0;34m\u001b[0m\u001b[0m\n\u001b[0m\u001b[1;32m   2568\u001b[0m \u001b[0;34m\u001b[0m\u001b[0m\n\u001b[1;32m   2569\u001b[0m \u001b[0;34m\u001b[0m\u001b[0m\n",
            "\u001b[0;32m/usr/local/lib/python3.7/dist-packages/jax/_src/numpy/lax_numpy.py\u001b[0m in \u001b[0;36marray\u001b[0;34m(object, dtype, copy, order, ndmin)\u001b[0m\n\u001b[1;32m   2516\u001b[0m   \u001b[0;31m# We can't use the ndarray class because we need to handle internal buffers\u001b[0m\u001b[0;34m\u001b[0m\u001b[0;34m\u001b[0m\u001b[0;34m\u001b[0m\u001b[0m\n\u001b[1;32m   2517\u001b[0m   \u001b[0;31m# (See https://github.com/google/jax/issues/8950)\u001b[0m\u001b[0;34m\u001b[0m\u001b[0;34m\u001b[0m\u001b[0;34m\u001b[0m\u001b[0m\n\u001b[0;32m-> 2518\u001b[0;31m   \u001b[0mndarray_types\u001b[0m \u001b[0;34m=\u001b[0m \u001b[0;34m(\u001b[0m\u001b[0mdevice_array\u001b[0m\u001b[0;34m.\u001b[0m\u001b[0mDeviceArray\u001b[0m\u001b[0;34m,\u001b[0m \u001b[0mcore\u001b[0m\u001b[0;34m.\u001b[0m\u001b[0mTracer\u001b[0m\u001b[0;34m)\u001b[0m\u001b[0;34m\u001b[0m\u001b[0;34m\u001b[0m\u001b[0m\n\u001b[0m\u001b[1;32m   2519\u001b[0m \u001b[0;34m\u001b[0m\u001b[0m\n\u001b[1;32m   2520\u001b[0m   \u001b[0;32mif\u001b[0m \u001b[0;32mnot\u001b[0m \u001b[0m_any\u001b[0m\u001b[0;34m(\u001b[0m\u001b[0misinstance\u001b[0m\u001b[0;34m(\u001b[0m\u001b[0mleaf\u001b[0m\u001b[0;34m,\u001b[0m \u001b[0mndarray_types\u001b[0m\u001b[0;34m)\u001b[0m \u001b[0;32mfor\u001b[0m \u001b[0mleaf\u001b[0m \u001b[0;32min\u001b[0m \u001b[0mleaves\u001b[0m\u001b[0;34m)\u001b[0m\u001b[0;34m:\u001b[0m\u001b[0;34m\u001b[0m\u001b[0;34m\u001b[0m\u001b[0m\n",
            "\u001b[0;31mKeyboardInterrupt\u001b[0m: "
          ]
        }
      ],
      "source": [
        "enemyAI = [cantStopCode.pure_random_AI, cantStopCode.random_timid_AI, cantStopCode.runner_weights_AI]\n",
        "theta = initTheta(theta)\n",
        "THETA = theta\n",
        "visualizeTheta(theta)\n",
        "trainVals = [0,10,50,100,200]\n",
        "theta = trainAndCheckProgress(theta,enemyAI,trainVals,aiDecision)\n",
        "np.savetxt('satVal.txt', theta, fmt='%f')"
      ]
    },
    {
      "cell_type": "markdown",
      "metadata": {
        "id": "hlubUGWqekjY"
      },
      "source": [
        "## Analysis of the new AI \n",
        "This produces a much better AI with a much stronger performance. \n",
        "<br>\n"
      ]
    },
    {
      "cell_type": "markdown",
      "metadata": {
        "id": "83PG-EXzfVzJ"
      },
      "source": [
        "# Including the behaviour profile\n",
        "We haven’t even included the other points. \n",
        "Let’s see what happens if we do that.\n",
        "Easiest done as in below.\n",
        "\n"
      ]
    },
    {
      "cell_type": "code",
      "execution_count": null,
      "metadata": {
        "id": "7jqa-x7xkBEA"
      },
      "outputs": [],
      "source": [
        "# Outputs the prob dist for choosing columns\n",
        "def aiChoiceProbabilisticLearn(choices, legal, theta):\n",
        "  # Inputs:\n",
        "  # choices, legal, theta as defined earlier\n",
        "  # Outputs:\n",
        "  # thetaToChooseFrom = An np array of size (11,) which is the probability distribution of our AI choosing any of the columns\n",
        "  scoredOptions = (choices @ theta[0:11]) # scores our current options\n",
        "  thetaToChooseFrom =jnn.softmax(legal*scoredOptions) # generates prob dist using softmax\n",
        "  return (thetaToChooseFrom[0],thetaToChooseFrom[1],thetaToChooseFrom[2],thetaToChooseFrom[3],\n",
        "          thetaToChooseFrom[4],thetaToChooseFrom[5],thetaToChooseFrom[6],thetaToChooseFrom[7],\n",
        "          thetaToChooseFrom[8],thetaToChooseFrom[9],thetaToChooseFrom[10])"
      ]
    },
    {
      "cell_type": "code",
      "execution_count": null,
      "metadata": {
        "id": "w_HGWyVFfeMa"
      },
      "outputs": [],
      "source": [
        "# We compute the gradient as a.... global function? mainly to save time. This is very ugly in terms of coding practice, but its REALLY convinent \n",
        "# deals with the roll again chance\n",
        "logAiProbRand = (lambda a,b,c : jnp.log(aiRollProbabilistic(a,b,c)[0]), lambda a,b,c : jnp.log(aiRollProbabilistic(a,b,c)[1]) ) # obfuscated but efficient\n",
        "gradLogAiProbRand = jax.jit(jax.grad(logAiProbRand[0], argnums=(2))), jax.jit(jax.grad(logAiProbRand[1], argnums=(2))) # obfuscated but efficient\n",
        "# deals with the behaviour profile, theta\n",
        "logAiProbChoice = (lambda a,b,c : jnp.log(aiChoiceProbabilisticLearn(a,b,c)[0]), lambda a,b,c : jnp.log(aiChoiceProbabilisticLearn(a,b,c)[1]), lambda a,b,c : jnp.log(aiChoiceProbabilisticLearn(a,b,c)[2]),\n",
        "                   lambda a,b,c : jnp.log(aiChoiceProbabilisticLearn(a,b,c)[3]), lambda a,b,c : jnp.log(aiChoiceProbabilisticLearn(a,b,c)[4]), lambda a,b,c : jnp.log(aiChoiceProbabilisticLearn(a,b,c)[5]),\n",
        "                   lambda a,b,c : jnp.log(aiChoiceProbabilisticLearn(a,b,c)[6]), lambda a,b,c : jnp.log(aiChoiceProbabilisticLearn(a,b,c)[7]), lambda a,b,c : jnp.log(aiChoiceProbabilisticLearn(a,b,c)[8]),\n",
        "                   lambda a,b,c : jnp.log(aiChoiceProbabilisticLearn(a,b,c)[9]), lambda a,b,c : jnp.log(aiChoiceProbabilisticLearn(a,b,c)[10]))\n",
        "\n",
        "gradLogAiProbChoice = (jax.jit(jax.grad(logAiProbChoice[0], argnums=(2))), jax.jit(jax.grad(logAiProbChoice[1], argnums=(2))), jax.jit(jax.grad(logAiProbChoice[2], argnums=(2))),\n",
        "                       jax.jit(jax.grad(logAiProbChoice[3], argnums=(2))), jax.jit(jax.grad(logAiProbChoice[4], argnums=(2))), jax.jit(jax.grad(logAiProbChoice[5], argnums=(2))),\n",
        "                       jax.jit(jax.grad(logAiProbChoice[6], argnums=(2))), jax.jit(jax.grad(logAiProbChoice[7], argnums=(2))), jax.jit(jax.grad(logAiProbChoice[8], argnums=(2))),\n",
        "                       jax.jit(jax.grad(logAiProbChoice[9], argnums=(2))), jax.jit(jax.grad(logAiProbChoice[10], argnums=(2))))\n",
        "\n",
        "\n",
        "# the function that actually does the learning, note we assume we won the last game and our reward is 1\n",
        "def changeTheta(theta,playerStateRecord,playerActionRecord, reward, learningRate = 0.5):\n",
        "  # Inputs\n",
        "  # theta; a 12 sized jnp array, this is the 'policy' we are training \n",
        "  # playerStateRecord; a list with dimensions [t,5] 5 being from our state at every time step (active_player_index, player_col_state, runner_choices, runner_legal, theta)\n",
        "  # playerActionRecord; a list with dimensions [t,2] 2 being from our actions at every time step (choice index, roll again state) \n",
        "  # Outputs\n",
        "  # theta; updated via policy grad method\n",
        "  if reward != 0: # note, we just ignore the data set if the reward is 0 since our player lost those\n",
        "    for t in range(1,len(playerActionRecord)): \n",
        "      colChoice = int(playerActionRecord[t][0])\n",
        "      rollChoice = int(playerActionRecord[t][1])\n",
        "      pCol = playerStateRecord.col[t]\n",
        "      pChoice = playerStateRecord.choice[t]\n",
        "      pLegal = playerStateRecord.legal[t]\n",
        "      theta+= learningRate*(gradLogAiProbRand[rollChoice](pChoice,colChoice,theta)) # chooses derivative based on our roll again choice\n",
        "      theta+= learningRate*gradLogAiProbChoice[colChoice](pChoice,pLegal,theta) # chooses derivative based on our column choice\n",
        "  return(theta)"
      ]
    },
    {
      "cell_type": "code",
      "execution_count": null,
      "metadata": {
        "colab": {
          "base_uri": "https://localhost:8080/",
          "height": 560
        },
        "id": "sg-w5Y11jl9r",
        "outputId": "ea37b586-26ef-4681-997d-6ca6a586374e"
      },
      "outputs": [
        {
          "output_type": "display_data",
          "data": {
            "text/plain": [
              "<Figure size 432x288 with 1 Axes>"
            ],
            "image/png": "[encoded data removed]"
          },
          "metadata": {
            "needs_background": "light"
          }
        },
        {
          "output_type": "stream",
          "name": "stdout",
          "text": [
            "Satisfy Value is: -4.593320481175445\n"
          ]
        },
        {
          "output_type": "error",
          "ename": "NameError",
          "evalue": "ignored",
          "traceback": [
            "\u001b[0;31m---------------------------------------------------------------------------\u001b[0m",
            "\u001b[0;31mNameError\u001b[0m                                 Traceback (most recent call last)",
            "\u001b[0;32m<ipython-input-17-83bebf88239e>\u001b[0m in \u001b[0;36m<module>\u001b[0;34m()\u001b[0m\n\u001b[1;32m      4\u001b[0m \u001b[0mvisualizeTheta\u001b[0m\u001b[0;34m(\u001b[0m\u001b[0mtheta\u001b[0m\u001b[0;34m)\u001b[0m\u001b[0;34m\u001b[0m\u001b[0;34m\u001b[0m\u001b[0m\n\u001b[1;32m      5\u001b[0m \u001b[0mtrainVals\u001b[0m \u001b[0;34m=\u001b[0m \u001b[0;34m[\u001b[0m\u001b[0;36m0\u001b[0m\u001b[0;34m,\u001b[0m\u001b[0;36m10\u001b[0m\u001b[0;34m,\u001b[0m\u001b[0;36m50\u001b[0m\u001b[0;34m,\u001b[0m\u001b[0;36m100\u001b[0m\u001b[0;34m,\u001b[0m\u001b[0;36m200\u001b[0m\u001b[0;34m]\u001b[0m\u001b[0;34m\u001b[0m\u001b[0;34m\u001b[0m\u001b[0m\n\u001b[0;32m----> 6\u001b[0;31m \u001b[0mtheta\u001b[0m \u001b[0;34m=\u001b[0m \u001b[0mtrainAndCheckProgress\u001b[0m\u001b[0;34m(\u001b[0m\u001b[0mtheta\u001b[0m\u001b[0;34m,\u001b[0m\u001b[0menemyAI\u001b[0m\u001b[0;34m,\u001b[0m\u001b[0mtrainVals\u001b[0m\u001b[0;34m,\u001b[0m\u001b[0maiDecision\u001b[0m\u001b[0;34m)\u001b[0m\u001b[0;34m\u001b[0m\u001b[0;34m\u001b[0m\u001b[0m\n\u001b[0m\u001b[1;32m      7\u001b[0m \u001b[0mnp\u001b[0m\u001b[0;34m.\u001b[0m\u001b[0msavetxt\u001b[0m\u001b[0;34m(\u001b[0m\u001b[0;34m'behaviour.txt'\u001b[0m\u001b[0;34m,\u001b[0m \u001b[0mtheta\u001b[0m\u001b[0;34m,\u001b[0m \u001b[0mfmt\u001b[0m\u001b[0;34m=\u001b[0m\u001b[0;34m'%f'\u001b[0m\u001b[0;34m)\u001b[0m\u001b[0;34m\u001b[0m\u001b[0;34m\u001b[0m\u001b[0m\n",
            "\u001b[0;31mNameError\u001b[0m: name 'trainAndCheckProgress' is not defined"
          ]
        }
      ],
      "source": [
        "enemyAI = [cantStopCode.pure_random_AI, cantStopCode.random_timid_AI, cantStopCode.runner_weights_AI]\n",
        "theta = initTheta(theta)\n",
        "THETA = theta\n",
        "visualizeTheta(theta)\n",
        "trainVals = [0,10,50,100,200]\n",
        "theta = trainAndCheckProgress(theta,enemyAI,trainVals,aiDecision)\n",
        "np.savetxt('behaviour.txt', theta, fmt='%f')"
      ]
    },
    {
      "cell_type": "markdown",
      "metadata": {
        "id": "UV-uWBRQlGea"
      },
      "source": [
        "# Incorporate greedy"
      ]
    },
    {
      "cell_type": "markdown",
      "metadata": {
        "id": "7M8rtDYClLvn"
      },
      "source": [
        "## Greed\n",
        "Greed occurs when a player sees that they have almost finished a column. That is to say, a player who is only 1 runner position from finishing a column may roll to finish that column. In doing so they consider that finishing the column is worth the risk of busting, despite what might normally be seen. Greed therefore changes the want of a column depending on how close a player is to finished. We can model greeds affect on a single column by the following function. \n",
        "$$ g*(\\frac{P_{Pi}}{L_i}) $$\n",
        "We can tack on this new number onto $\\theta$, modify the player scoring, and AI decision function by including the greediness into them and do the machine learning just as before. To incorporate this, we need to think of how our machine learning will change. Given that we have a new parameter we somehow need to incorporate its changes into our system. This can be done by including another value into aiChoiceProbabilistic, that being greedy.\n",
        "\n"
      ]
    },
    {
      "cell_type": "markdown",
      "metadata": {
        "id": "kOv-deMLyKoP"
      },
      "source": [
        "> Changed our ai functions to incorporate greedy"
      ]
    },
    {
      "cell_type": "code",
      "execution_count": null,
      "metadata": {
        "id": "H7nokCaClLT5"
      },
      "outputs": [],
      "source": [
        "# The deterministic actor\n",
        "def aiChoiceProbabilistic(pState,choices, legal, theta, greedy, active = 1, PLAYER_COL_STATE_INIT=jnp.array([3,5,7,9,11,13,11,9,7,5,3])):\n",
        "  # Inputs:\n",
        "  # active_player_index, player_col_state, choices, legal, random_key defined as in the library\n",
        "  # theta = An np array of size (12,) with theta[0:11] being its preferences and theta[10] being its satisfy value\n",
        "  # Outputs:\n",
        "  # choice_index; an integer represetning the chosen option\n",
        "  # roll_again; a bollean; representing if the player ends its turn\n",
        "  scoredOptions = (choices @ theta[0:11]) # scores our current options\n",
        "  greed = (PLAYER_COL_STATE_INIT - pState[active] + choices) @ jnp.reciprocal(PLAYER_COL_STATE_INIT) * theta[12]\n",
        "  thetaToChooseFrom =jnn.softmax(legal*jnp.add(scoredOptions,greed)) # chooses best option that maximizes score \n",
        "  return thetaToChooseFrom\n",
        "\n",
        "# The actor which spits a choice based upon its probability distribution\n",
        "def aiDecision(active_player_index, player_col_state, choices, legal, random_key, theta = THETA, PLAYER_COL_STATE_INIT=jnp.array([3,5,7,9,11,13,11,9,7,5,3])):\n",
        "  # Inputs:\n",
        "  # same as earlier\n",
        "  # Outputs:\n",
        "  # choice_index; an integer represetning the chosen option\n",
        "  # roll_again; a bollean; representing if the player ends its turn\n",
        "  thetaToChooseFrom = aiChoiceProbabilistic(player_col_state,choices,legal,theta,theta[12],active_player_index)\n",
        "  choice_index =  jnp.argmax(thetaToChooseFrom)\n",
        "  roll_again = random.random() > aiRollProbabilistic(choices, choice_index, theta)[0] # if = 1, then approx 70% to roll again\n",
        "  return (choice_index, roll_again)"
      ]
    },
    {
      "cell_type": "markdown",
      "metadata": {
        "id": "CXiFTrL3lWBz"
      },
      "source": [
        "### Other changes"
      ]
    },
    {
      "cell_type": "markdown",
      "metadata": {
        "id": "0W9V6XSjyH7l"
      },
      "source": [
        "> Had it spit out the greedy value"
      ]
    },
    {
      "cell_type": "code",
      "execution_count": null,
      "metadata": {
        "id": "KKIDjOTrlXb1"
      },
      "outputs": [],
      "source": [
        "# Outputs the prob dist for choosing columns\n",
        "def aiChoiceProbabilisticLearn(pState,choices, legal, theta, active = 1, PLAYER_COL_STATE_INIT=jnp.array([3,5,7,9,11,13,11,9,7,5,3])):\n",
        "  # Inputs:\n",
        "  # choices, legal, theta as defined earlier\n",
        "  # Outputs:\n",
        "  # thetaToChooseFrom = An np array of size (11,) which is the probability distribution of our AI choosing any of the columns\n",
        "  scoredOptions = (choices @ theta[0:11]) # scores our current options\n",
        "  greed = (PLAYER_COL_STATE_INIT - pState[active] + choices) @ jnp.reciprocal(PLAYER_COL_STATE_INIT) * theta[12]\n",
        "  thetaToChooseFrom =jnn.softmax(legal*jnp.add(scoredOptions,greed)) # chooses best option that maximizes score \n",
        "  return (thetaToChooseFrom[0],thetaToChooseFrom[1],thetaToChooseFrom[2],thetaToChooseFrom[3],\n",
        "          thetaToChooseFrom[4],thetaToChooseFrom[5],thetaToChooseFrom[6],thetaToChooseFrom[7],\n",
        "          thetaToChooseFrom[8],thetaToChooseFrom[9],thetaToChooseFrom[10], thetaToChooseFrom[12])"
      ]
    },
    {
      "cell_type": "markdown",
      "metadata": {
        "id": "A63DGG6Gx8EV"
      },
      "source": [
        "> Added a function to take the greedy derivative properly"
      ]
    },
    {
      "cell_type": "code",
      "execution_count": null,
      "metadata": {
        "id": "j7g30KL4lmN9"
      },
      "outputs": [],
      "source": [
        "# We compute the gradient as a.... global function? mainly to save time. This is very ugly in terms of coding practice, but its REALLY convinent \n",
        "# deals with the roll again chance\n",
        "logAiProbRand = (lambda a,b,c : jnp.log(aiRollProbabilistic(a,b,c)[0]), lambda a,b,c : jnp.log(aiRollProbabilistic(a,b,c)[1]) ) # obfuscated but efficient\n",
        "gradLogAiProbRand = jax.jit(jax.grad(logAiProbRand[0], argnums=(2))), jax.jit(jax.grad(logAiProbRand[1], argnums=(2))) # obfuscated but efficient\n",
        "# deals with the behaviour profile, theta\n",
        "logAiProbChoice = (lambda a,b,c,d : jnp.log(aiChoiceProbabilisticLearn(a,b,c,d)[0]), lambda a,b,c,d : jnp.log(aiChoiceProbabilisticLearn(a,b,c,d)[1]), lambda a,b,c,d : jnp.log(aiChoiceProbabilisticLearn(a,b,c,d)[2]),\n",
        "                   lambda a,b,c,d : jnp.log(aiChoiceProbabilisticLearn(a,b,c,d)[3]), lambda a,b,c,d : jnp.log(aiChoiceProbabilisticLearn(a,b,c,d)[4]), lambda a,b,c,d : jnp.log(aiChoiceProbabilisticLearn(a,b,c,d)[5]),\n",
        "                   lambda a,b,c,d : jnp.log(aiChoiceProbabilisticLearn(a,b,c,d)[6]), lambda a,b,c,d : jnp.log(aiChoiceProbabilisticLearn(a,b,c,d)[7]), lambda a,b,c,d : jnp.log(aiChoiceProbabilisticLearn(a,b,c,d)[8]),\n",
        "                   lambda a,b,c,d : jnp.log(aiChoiceProbabilisticLearn(a,b,c,d)[9]), lambda a,b,c,d : jnp.log(aiChoiceProbabilisticLearn(a,b,c,d)[10]))\n",
        "\n",
        "gradLogAiProbChoice = (jax.jit(jax.grad(logAiProbChoice[0], argnums=(3))), jax.jit(jax.grad(logAiProbChoice[1], argnums=(3))), jax.jit(jax.grad(logAiProbChoice[2], argnums=(3))),\n",
        "                       jax.jit(jax.grad(logAiProbChoice[3], argnums=(3))), jax.jit(jax.grad(logAiProbChoice[4], argnums=(3))), jax.jit(jax.grad(logAiProbChoice[5], argnums=(3))),\n",
        "                       jax.jit(jax.grad(logAiProbChoice[6], argnums=(3))), jax.jit(jax.grad(logAiProbChoice[7], argnums=(3))), jax.jit(jax.grad(logAiProbChoice[8], argnums=(3))),\n",
        "                       jax.jit(jax.grad(logAiProbChoice[9], argnums=(3))), jax.jit(jax.grad(logAiProbChoice[10], argnums=(3))))\n",
        "\n",
        "\n",
        "# the function that actually does the learning, note we assume we won the last game and our reward is 1\n",
        "def changeTheta(theta,playerStateRecord,playerActionRecord, reward, learningRate = 0.5):\n",
        "  # Inputs\n",
        "  # theta; a 12 sized jnp array, this is the 'policy' we are training \n",
        "  # playerStateRecord; a list with dimensions [t,5] 5 being from our state at every time step (active_player_index, player_col_state, runner_choices, runner_legal, theta)\n",
        "  # playerActionRecord; a list with dimensions [t,2] 2 being from our actions at every time step (choice index, roll again state) \n",
        "  # Outputs\n",
        "  # theta; updated via policy grad method\n",
        "  if reward != 0: # note, we just ignore the data set if the reward is 0 since our player lost those\n",
        "    for t in range(1,len(playerActionRecord)): \n",
        "      colChoice = int(playerActionRecord[t][0])\n",
        "      rollChoice = int(playerActionRecord[t][1])\n",
        "      pCol = playerStateRecord.col[t]\n",
        "      pChoice = playerStateRecord.choice[t]\n",
        "      pLegal = playerStateRecord.legal[t]\n",
        "      theta+= learningRate*(gradLogAiProbRand[rollChoice](pChoice,colChoice,theta)) # chooses derivative based on our roll again choice\n",
        "      theta+= learningRate*(gradLogAiProbChoice[colChoice](pCol,pChoice,pLegal,theta))\n",
        "\n",
        "\n",
        "  return(theta)"
      ]
    },
    {
      "cell_type": "markdown",
      "metadata": {
        "id": "-bgyvl5n0IFC"
      },
      "source": [
        "you would think the below is needed to incorporate greed.... but it isnt! Cool."
      ]
    },
    {
      "cell_type": "code",
      "execution_count": null,
      "metadata": {
        "id": "9ZBdrt4k0Hq1"
      },
      "outputs": [],
      "source": [
        "# # deals with greed\n",
        "# logAiProbGreed = (lambda a,b,c,d,e : jnp.log(aiChoiceProbabilisticLearn(a,b,c,d,e)[0]), lambda a,b,c,d,e: jnp.log(aiChoiceProbabilisticLearn(a,b,c,d,e)[1]), lambda a,b,c,d,e: jnp.log(aiChoiceProbabilisticLearn(a,b,c,d,e)[2]),\n",
        "#                    lambda a,b,c,d,e: jnp.log(aiChoiceProbabilisticLearn(a,b,c,d,e)[3]), lambda a,b,c,d,e: jnp.log(aiChoiceProbabilisticLearn(a,b,c,d,e)[4]), lambda a,b,c,d,e: jnp.log(aiChoiceProbabilisticLearn(a,b,c,d,e)[5]),\n",
        "#                    lambda a,b,c,d,e: jnp.log(aiChoiceProbabilisticLearn(a,b,c,d,e)[6]), lambda a,b,c,d,e: jnp.log(aiChoiceProbabilisticLearn(a,b,c,d,e)[7]), lambda a,b,c,d,e: jnp.log(aiChoiceProbabilisticLearn(a,b,c,d,e)[8]),\n",
        "#                    lambda a,b,c,d,e: jnp.log(aiChoiceProbabilisticLearn(a,b,c,d,e)[9]), lambda a,b,c,d,e: jnp.log(aiChoiceProbabilisticLearn(a,b,c,d,e)[10]))\n",
        "\n",
        "# gradLogAiProbGreed = (jax.jit(jax.grad(logAiProbGreed[0], argnums=(4))), jax.jit(jax.grad(logAiProbGreed[1], argnums=(4))), jax.jit(jax.grad(logAiProbGreed[2], argnums=(4))),\n",
        "#                        jax.jit(jax.grad(logAiProbGreed[3], argnums=(4))), jax.jit(jax.grad(logAiProbGreed[4], argnums=(4))), jax.jit(jax.grad(logAiProbGreed[5], argnums=(4))),\n",
        "#                        jax.jit(jax.grad(logAiProbGreed[6], argnums=(4))), jax.jit(jax.grad(logAiProbGreed[7], argnums=(4))), jax.jit(jax.grad(logAiProbGreed[8], argnums=(4))),\n",
        "#                        jax.jit(jax.grad(logAiProbGreed[9], argnums=(4))), jax.jit(jax.grad(logAiProbGreed[10], argnums=(4))))\n",
        "\n",
        "\n",
        "#  + gradLogAiProbGreed[colChoice](pCol,pChoice,pLegal,theta,theta[12])) # chooses derivative based on our column choice, includes greedy"
      ]
    },
    {
      "cell_type": "markdown",
      "metadata": {
        "id": "wzA32k8byQD7"
      },
      "source": [
        "> Added the greedy value and cleaned up visualizeTheta"
      ]
    },
    {
      "cell_type": "code",
      "execution_count": null,
      "metadata": {
        "id": "XmJDrHneludQ"
      },
      "outputs": [],
      "source": [
        "def visualizeTheta(theta) :\n",
        "  fig = plt.figure()\n",
        "  ax = fig.add_axes([0,0,1,1])\n",
        "  vals = ['2', '3', '4', '5', '6', '7', '8', '9', '10', '11', '12']\n",
        "  ax.bar(vals,theta[0:11])\n",
        "  plt.show()\n",
        "  print(f\"Satisfy Value is: {theta[11]}\")\n",
        "  print(f\"Greedy value is: {theta[12]}\")"
      ]
    },
    {
      "cell_type": "markdown",
      "metadata": {
        "id": "UQsDrWMbyTne"
      },
      "source": [
        "> Also initialized the greedy value with initTheta"
      ]
    },
    {
      "cell_type": "code",
      "execution_count": null,
      "metadata": {
        "id": "SX83pxOxlwt3"
      },
      "outputs": [],
      "source": [
        "def initTheta(theta, randKey = key):\n",
        "  theta = jrandom.exponential(key, shape=(13,))\n",
        "  theta = theta.at[-2].set(2) # sat val\n",
        "  theta = theta.at[-1].set(1.5) # greed val\n",
        "  return(theta)\n"
      ]
    },
    {
      "cell_type": "markdown",
      "metadata": {
        "id": "C7dTI6tLoRI7"
      },
      "source": [
        "# Running greedy"
      ]
    },
    {
      "cell_type": "code",
      "execution_count": null,
      "metadata": {
        "colab": {
          "base_uri": "https://localhost:8080/",
          "height": 1000
        },
        "id": "F8EOvRtNoSpv",
        "outputId": "d8962972-d43f-4d9d-9f1f-d221f56792fb"
      },
      "outputs": [
        {
          "output_type": "display_data",
          "data": {
            "text/plain": [
              "<Figure size 432x288 with 1 Axes>"
            ],
            "image/png": "[encoded data removed]"
          },
          "metadata": {
            "needs_background": "light"
          }
        },
        {
          "output_type": "stream",
          "name": "stdout",
          "text": [
            "Satisfy Value is: 2.0\n",
            "Greedy value is: 1.5\n",
            "Below are results for 0 training sessoins:\n",
            "Against AI 0\n",
            "0 % done\n",
            "10 % done\n",
            "20 % done\n",
            "30 % done\n",
            "40 % done\n",
            "50 % done\n",
            "60 % done\n",
            "70 % done\n",
            "80 % done\n",
            "90 % done\n",
            "After  10  winners are  [ 0 10]\n",
            "Against AI 1\n",
            "0 % done\n",
            "10 % done\n",
            "20 % done\n",
            "30 % done\n",
            "40 % done\n",
            "50 % done\n",
            "60 % done\n",
            "70 % done\n",
            "80 % done\n",
            "90 % done\n",
            "After  10  winners are  [ 0 10]\n",
            "Against AI 2\n",
            "0 % done\n",
            "10 % done\n",
            "20 % done\n",
            "30 % done\n",
            "40 % done\n",
            "50 % done\n",
            "60 % done\n",
            "70 % done\n",
            "80 % done\n",
            "90 % done\n",
            "After  10  winners are  [ 0 10]\n"
          ]
        },
        {
          "output_type": "display_data",
          "data": {
            "text/plain": [
              "<Figure size 432x288 with 1 Axes>"
            ],
            "image/png": "[encoded data removed]"
          },
          "metadata": {
            "needs_background": "light"
          }
        },
        {
          "output_type": "stream",
          "name": "stdout",
          "text": [
            "Satisfy Value is: 2.0\n",
            "Greedy value is: 1.5\n",
            "Below are results for 10 training sessoins:\n",
            "Against AI 0\n",
            "0 % done\n",
            "10 % done\n",
            "20 % done\n",
            "30 % done\n",
            "40 % done\n",
            "50 % done\n",
            "60 % done\n",
            "70 % done\n",
            "80 % done\n",
            "90 % done\n",
            "After  10  winners are  [ 0 10]\n",
            "Against AI 1\n",
            "0 % done\n",
            "10 % done\n",
            "20 % done\n",
            "30 % done\n",
            "40 % done\n",
            "50 % done\n",
            "60 % done\n",
            "70 % done\n",
            "80 % done\n",
            "90 % done\n",
            "After  10  winners are  [ 0 10]\n",
            "Against AI 2\n",
            "0 % done\n",
            "10 % done\n",
            "20 % done\n",
            "30 % done\n",
            "40 % done\n",
            "50 % done\n",
            "60 % done\n",
            "70 % done\n",
            "80 % done\n",
            "90 % done\n",
            "After  10  winners are  [ 0 10]\n"
          ]
        },
        {
          "output_type": "display_data",
          "data": {
            "text/plain": [
              "<Figure size 432x288 with 1 Axes>"
            ],
            "image/png": "[encoded data removed]"
          },
          "metadata": {
            "needs_background": "light"
          }
        },
        {
          "output_type": "stream",
          "name": "stdout",
          "text": [
            "Satisfy Value is: -3.146584987640381\n",
            "Greedy value is: 1.6844737529754639\n",
            "Below are results for 50 training sessoins:\n",
            "Against AI 0\n",
            "0 % done\n",
            "10 % done\n",
            "20 % done\n",
            "30 % done\n",
            "40 % done\n",
            "50 % done\n",
            "60 % done\n",
            "70 % done\n",
            "80 % done\n",
            "90 % done\n",
            "After  10  winners are  [ 0 10]\n",
            "Against AI 1\n",
            "0 % done\n",
            "10 % done\n",
            "20 % done\n",
            "30 % done\n",
            "40 % done\n",
            "50 % done\n",
            "60 % done\n",
            "70 % done\n",
            "80 % done\n",
            "90 % done\n",
            "After  10  winners are  [ 0 10]\n",
            "Against AI 2\n",
            "0 % done\n",
            "10 % done\n",
            "20 % done\n",
            "30 % done\n",
            "40 % done\n",
            "50 % done\n",
            "60 % done\n",
            "70 % done\n",
            "80 % done\n",
            "90 % done\n",
            "After  10  winners are  [ 0 10]\n"
          ]
        },
        {
          "output_type": "display_data",
          "data": {
            "text/plain": [
              "<Figure size 432x288 with 1 Axes>"
            ],
            "image/png": "[encoded data removed]"
          },
          "metadata": {
            "needs_background": "light"
          }
        },
        {
          "output_type": "stream",
          "name": "stdout",
          "text": [
            "Satisfy Value is: -4.641198635101318\n",
            "Greedy value is: 1.7609316110610962\n",
            "Below are results for 100 training sessoins:\n",
            "Against AI 0\n",
            "0 % done\n",
            "10 % done\n",
            "20 % done\n",
            "30 % done\n",
            "40 % done\n",
            "50 % done\n",
            "60 % done\n",
            "70 % done\n",
            "80 % done\n",
            "90 % done\n",
            "After  10  winners are  [ 0 10]\n",
            "Against AI 1\n",
            "0 % done\n",
            "10 % done\n",
            "20 % done\n",
            "30 % done\n",
            "40 % done\n",
            "50 % done\n",
            "60 % done\n",
            "70 % done\n",
            "80 % done\n",
            "90 % done\n",
            "After  10  winners are  [ 0 10]\n",
            "Against AI 2\n",
            "0 % done\n",
            "10 % done\n",
            "20 % done\n",
            "30 % done\n",
            "40 % done\n",
            "50 % done\n",
            "60 % done\n",
            "70 % done\n",
            "80 % done\n",
            "90 % done\n",
            "After  10  winners are  [ 0 10]\n"
          ]
        },
        {
          "output_type": "display_data",
          "data": {
            "text/plain": [
              "<Figure size 432x288 with 1 Axes>"
            ],
            "image/png": "[encoded data removed]"
          },
          "metadata": {
            "needs_background": "light"
          }
        },
        {
          "output_type": "stream",
          "name": "stdout",
          "text": [
            "Satisfy Value is: -5.653548717498779\n",
            "Greedy value is: 1.7964907884597778\n",
            "Below are results for 200 training sessoins:\n",
            "Against AI 0\n",
            "0 % done\n",
            "10 % done\n",
            "20 % done\n",
            "30 % done\n",
            "40 % done\n",
            "50 % done\n",
            "60 % done\n",
            "70 % done\n",
            "80 % done\n",
            "90 % done\n",
            "After  10  winners are  [ 0 10]\n",
            "Against AI 1\n",
            "0 % done\n",
            "10 % done\n",
            "20 % done\n",
            "30 % done\n",
            "40 % done\n",
            "50 % done\n",
            "60 % done\n",
            "70 % done\n",
            "80 % done\n",
            "90 % done\n",
            "After  10  winners are  [ 0 10]\n",
            "Against AI 2\n",
            "0 % done\n",
            "10 % done\n",
            "20 % done\n",
            "30 % done\n",
            "40 % done\n",
            "50 % done\n",
            "60 % done\n",
            "70 % done\n",
            "80 % done\n",
            "90 % done\n",
            "After  10  winners are  [ 0 10]\n"
          ]
        },
        {
          "output_type": "display_data",
          "data": {
            "text/plain": [
              "<Figure size 432x288 with 1 Axes>"
            ],
            "image/png": "[encoded data removed]"
          },
          "metadata": {
            "needs_background": "light"
          }
        },
        {
          "output_type": "stream",
          "name": "stdout",
          "text": [
            "Satisfy Value is: -8.02653980255127\n",
            "Greedy value is: 2.3209447860717773\n"
          ]
        }
      ],
      "source": [
        "enemyAI = [cantStopCode.pure_random_AI, cantStopCode.random_timid_AI, cantStopCode.runner_weights_AI]\n",
        "theta = initTheta(theta)\n",
        "THETA = theta\n",
        "visualizeTheta(theta)\n",
        "trainVals = [0,10,50,100,200]\n",
        "theta = trainAndCheckProgress(theta,enemyAI,trainVals,aiDecision)\n",
        "np.savetxt('greedy.txt', theta, fmt='%f')"
      ]
    },
    {
      "cell_type": "markdown",
      "metadata": {
        "id": "Zav0X_HFk0jc"
      },
      "source": [
        "## Greedy does work? \n",
        "It seems that incorporating greedy doesn't actually help our AI. This might be from its implementation or perhaps how the function is being optimized. We will analyze this greedy implemented AI against the others shortly. "
      ]
    },
    {
      "cell_type": "markdown",
      "metadata": {
        "id": "NJ2wS1cE03C4"
      },
      "source": [
        "# Another method (Evolutiuonary Algorithim)\n"
      ]
    },
    {
      "cell_type": "markdown",
      "metadata": {
        "id": "C2lHgvTbtIYA"
      },
      "source": [
        "In so far, we have been using machine learning to train our AI. But there is another way. Since we have a small number of parameters, we can just guess at what they should be. If we guess let’s say 10 times, and then see which guess is best. We can then take the best guess, slightly change it 9 times and see which is best between the 9 changed versions an the original 'best'. This process of slighly changing, an seeing which is best can be done infinitely, hopefully ending in a good final AI. <br>\n",
        "This process is known as _evolutionary computation_ and only requires two things.\n",
        "- One, a good representation of 'best' means. If this isn't good then our AIs will trend to become worse, and may even get stuck in certain \"optimal\" positions. \n",
        "- Two, the state space cannot be incredibly huge <br>\n",
        "Note: since the greedy parameter doesnt seem to help our AI, we will only train the behaviour profile and satisfy value. \n",
        "\n",
        "\n"
      ]
    },
    {
      "cell_type": "markdown",
      "metadata": {
        "id": "yKNlUjyrpcPd"
      },
      "source": [
        "## Defining best\n",
        "Finding what 'best' means might be a little difficult, since we want an AI that can beat most other AI's, we will simply say one is better than the other if it can other AI's most often. Thus the AI with the highest win number of wins against the three training AIs will be considered the \"best\". \n"
      ]
    },
    {
      "cell_type": "markdown",
      "metadata": {
        "id": "ufZbPLJtptUj"
      },
      "source": [
        "## Implementing this in code\n",
        "- We need a function that can generate thetas (we already have this)\n",
        "- We need a function that can change the elements of theta\n",
        "- We need a function that counts the number of wins an AI gets <br>\n",
        "This is done below. \n",
        "\n"
      ]
    },
    {
      "cell_type": "code",
      "execution_count": null,
      "metadata": {
        "id": "ar3wbuH4ptly"
      },
      "outputs": [],
      "source": [
        "# Initializes theta, but with random values for the greed and satisfy value\n",
        "def initTheta(theta):\n",
        "  random.seed()\n",
        "  theta = np.random.rand(12,)\n",
        "  theta[-1] = (random.uniform(-5, 5)) # sat val\n",
        "  return(theta)\n",
        "\n",
        "# visualizeTheta\n",
        "def visualizeTheta(theta) :\n",
        "  fig = plt.figure()\n",
        "  ax = fig.add_axes([0,0,1,1])\n",
        "  vals = ['2', '3', '4', '5', '6', '7', '8', '9', '10', '11', '12']\n",
        "  ax.bar(vals,theta[0:11])\n",
        "  plt.show()\n",
        "  print(f\"Satisfy Value is: {theta[11]}\")\n",
        "\n",
        "# changes a random number of values, a random amount between 0 and 1\n",
        "def pointMutation(theta):\n",
        "  random.seed()\n",
        "  numberOfChanges = random.randint(0, 11)\n",
        "  for v in range(numberOfChanges+1):\n",
        "    changeAt = random.randint(0, 11)\n",
        "    theta[changeAt] += random.uniform(-1,1)\n",
        "  return(theta)\n",
        "\n",
        "# finds the best theta that preforms against the enemy AIs \n",
        "def findScore(theta,aiDecision,enemyAI,tourneyLength = 20):\n",
        "  score = 0\n",
        "  global THETA\n",
        "  THETA = theta\n",
        "  for t in range(tourneyLength):\n",
        "    for enemy in enemyAI:\n",
        "      score += our_play_N_games(tourneyLength,[aiDecision,enemy])\n",
        "  return(score)\n",
        "    \n",
        "#Stealing from the Cant Stop code, we need to modify the play N games code to return the number of winners\n",
        "def our_play_N_games(N_games, AIs, N_PLAYERS = 2):\n",
        "  winners = jnp.zeros(N_PLAYERS,dtype=jnp.dtype('i4'))\n",
        "  for i in range(N_games):\n",
        "    winners += cantStopCode.simulate_game(AIs)\n",
        "  return(winners[0])\n",
        "\n",
        "# trains an evolutionary comp AI \n",
        "def trainAIEC(ourAI,enemyAI,numberOfAllTournies, tourneyLength,tourneySize):\n",
        "  thetas = np.zeros(((tourneySize + 1),12)) # inits thetas\n",
        "  tScores = np.zeros((tourneySize + 1),)\n",
        "  best = 0\n",
        "  global THETA\n",
        "  for m in range(tourneySize): # starts with random intialization\n",
        "    thetas[m] = initTheta(thetas[m]) \n",
        "  for numberOfTournies in numberOfAllTournies:\n",
        "    for n in range(numberOfTournies):  # plays n tournies\n",
        "\n",
        "      for m in range(tourneySize): # scores everyone\n",
        "        tScores[m] = findScore(thetas[m],ourAI,enemyAI,tourneyLength) \n",
        "\n",
        "      best = np.argmax(tScores) # takes best score\n",
        "\n",
        "      for m in range(tourneySize): # mutates around best\n",
        "        if m != best: # dodges itself\n",
        "          thetas[m] = pointMutation(thetas[best]) \n",
        "      \n",
        "      thetas[-1] = initTheta(thetas[-1]) # keep one random so we dont get \"stuck\"\n",
        "    visualizeTheta(thetas[best])\n",
        "    print(f\"After {numberOfTournies} tournies with size {tourneySize} tournies, {len(enemyAI)} enemies and {tourneyLength} games per\")\n",
        "    THETA = thetas[best]\n",
        "    for idx,enemy in enumerate(enemyAI):\n",
        "      print(f\"Against AI {idx}\")\n",
        "      cantStopCode.play_N_games(10,[aiDecision,enemy])\n",
        "  return(thetas[best])"
      ]
    },
    {
      "cell_type": "code",
      "execution_count": null,
      "metadata": {
        "colab": {
          "base_uri": "https://localhost:8080/",
          "height": 1000
        },
        "id": "1BJZRcf_z-Au",
        "outputId": "5961d010-6fa7-48d8-b303-2d168de55133"
      },
      "outputs": [
        {
          "output_type": "display_data",
          "data": {
            "text/plain": [
              "<Figure size 432x288 with 1 Axes>"
            ],
            "image/png": "[encoded data removed]"
          },
          "metadata": {
            "needs_background": "light"
          }
        },
        {
          "output_type": "stream",
          "name": "stdout",
          "text": [
            "Satisfy Value is: 2.719589148480729\n",
            "After 0 tournies with size 8 tournies, 3 enemies and 3 games per\n",
            "Against AI 0\n",
            "0 % done\n",
            "10 % done\n",
            "20 % done\n",
            "30 % done\n",
            "40 % done\n",
            "50 % done\n",
            "60 % done\n",
            "70 % done\n",
            "80 % done\n",
            "90 % done\n",
            "After  10  winners are  [9 1]\n",
            "Against AI 1\n",
            "0 % done\n",
            "10 % done\n",
            "20 % done\n",
            "30 % done\n",
            "40 % done\n",
            "50 % done\n",
            "60 % done\n",
            "70 % done\n",
            "80 % done\n",
            "90 % done\n",
            "After  10  winners are  [5 5]\n",
            "Against AI 2\n",
            "0 % done\n",
            "10 % done\n",
            "20 % done\n",
            "30 % done\n",
            "40 % done\n",
            "50 % done\n",
            "60 % done\n",
            "70 % done\n",
            "80 % done\n",
            "90 % done\n",
            "After  10  winners are  [4 6]\n"
          ]
        },
        {
          "output_type": "display_data",
          "data": {
            "text/plain": [
              "<Figure size 432x288 with 1 Axes>"
            ],
            "image/png": "[encoded data removed]"
          },
          "metadata": {
            "needs_background": "light"
          }
        },
        {
          "output_type": "stream",
          "name": "stdout",
          "text": [
            "Satisfy Value is: -0.6435641596907511\n",
            "After 2 tournies with size 8 tournies, 3 enemies and 3 games per\n",
            "Against AI 0\n",
            "0 % done\n",
            "10 % done\n",
            "20 % done\n",
            "30 % done\n",
            "40 % done\n",
            "50 % done\n",
            "60 % done\n",
            "70 % done\n",
            "80 % done\n",
            "90 % done\n",
            "After  10  winners are  [9 1]\n",
            "Against AI 1\n",
            "0 % done\n",
            "10 % done\n",
            "20 % done\n",
            "30 % done\n",
            "40 % done\n",
            "50 % done\n",
            "60 % done\n",
            "70 % done\n",
            "80 % done\n",
            "90 % done\n",
            "After  10  winners are  [4 6]\n",
            "Against AI 2\n",
            "0 % done\n",
            "10 % done\n",
            "20 % done\n",
            "30 % done\n",
            "40 % done\n",
            "50 % done\n",
            "60 % done\n",
            "70 % done\n",
            "80 % done\n",
            "90 % done\n",
            "After  10  winners are  [4 6]\n"
          ]
        },
        {
          "output_type": "display_data",
          "data": {
            "text/plain": [
              "<Figure size 432x288 with 1 Axes>"
            ],
            "image/png": "[encoded data removed]"
          },
          "metadata": {
            "needs_background": "light"
          }
        },
        {
          "output_type": "stream",
          "name": "stdout",
          "text": [
            "Satisfy Value is: -1.667747561829223\n",
            "After 5 tournies with size 8 tournies, 3 enemies and 3 games per\n",
            "Against AI 0\n",
            "0 % done\n",
            "10 % done\n",
            "20 % done\n",
            "30 % done\n",
            "40 % done\n",
            "50 % done\n",
            "60 % done\n",
            "70 % done\n",
            "80 % done\n",
            "90 % done\n",
            "After  10  winners are  [7 3]\n",
            "Against AI 1\n",
            "0 % done\n",
            "10 % done\n",
            "20 % done\n",
            "30 % done\n",
            "40 % done\n",
            "50 % done\n",
            "60 % done\n",
            "70 % done\n",
            "80 % done\n",
            "90 % done\n",
            "After  10  winners are  [5 5]\n",
            "Against AI 2\n",
            "0 % done\n",
            "10 % done\n",
            "20 % done\n",
            "30 % done\n",
            "40 % done\n",
            "50 % done\n",
            "60 % done\n",
            "70 % done\n",
            "80 % done\n",
            "90 % done\n",
            "After  10  winners are  [4 6]\n"
          ]
        },
        {
          "output_type": "display_data",
          "data": {
            "text/plain": [
              "<Figure size 432x288 with 1 Axes>"
            ],
            "image/png": "[encoded data removed]"
          },
          "metadata": {
            "needs_background": "light"
          }
        },
        {
          "output_type": "stream",
          "name": "stdout",
          "text": [
            "Satisfy Value is: -3.209070968569725\n",
            "After 10 tournies with size 8 tournies, 3 enemies and 3 games per\n",
            "Against AI 0\n",
            "0 % done\n",
            "10 % done\n",
            "20 % done\n",
            "30 % done\n",
            "40 % done\n",
            "50 % done\n",
            "60 % done\n",
            "70 % done\n",
            "80 % done\n",
            "90 % done\n",
            "After  10  winners are  [7 3]\n",
            "Against AI 1\n",
            "0 % done\n",
            "10 % done\n",
            "20 % done\n",
            "30 % done\n",
            "40 % done\n",
            "50 % done\n",
            "60 % done\n",
            "70 % done\n",
            "80 % done\n",
            "90 % done\n",
            "After  10  winners are  [5 5]\n",
            "Against AI 2\n",
            "0 % done\n",
            "10 % done\n",
            "20 % done\n",
            "30 % done\n",
            "40 % done\n",
            "50 % done\n",
            "60 % done\n",
            "70 % done\n",
            "80 % done\n",
            "90 % done\n",
            "After  10  winners are  [3 7]\n"
          ]
        }
      ],
      "source": [
        "theta = jnn.softmax(jrandom.exponential(key, shape=(12,))) # I need this so it doesnt complain\n",
        "\n",
        "enemyAI = [cantStopCode.pure_random_AI, cantStopCode.random_timid_AI, cantStopCode.runner_weights_AI]\n",
        "trainVals = [0,2,5,10]\n",
        "tourneyLength = 3\n",
        "tourneySize = 8\n",
        "theta = trainAIEC(aiDecision,enemyAI,trainVals,tourneyLength,tourneySize)\n",
        "np.savetxt('ecMethod.txt', theta, fmt='%f')\n",
        "\n"
      ]
    },
    {
      "cell_type": "markdown",
      "source": [
        "Now, while this code is much less optimized than the other methods, it is incredibly slower. Only doing the about 15 episodes above took nearly the same time as the near 1000 episodes done for the policy gradient method. "
      ],
      "metadata": {
        "id": "WNxP_SqoJskw"
      }
    },
    {
      "cell_type": "markdown",
      "metadata": {
        "id": "r_FedMNk1-P-"
      },
      "source": [
        "# Analyzing all methods\n",
        "Since we saved all of our thetas, we will now just read them off and make them play against the enemy AI set 100 times each. The one that wins the most will be the one we submit. Cool!"
      ]
    },
    {
      "cell_type": "code",
      "execution_count": null,
      "metadata": {
        "id": "fHXP1__cYKqq",
        "colab": {
          "base_uri": "https://localhost:8080/",
          "height": 1000
        },
        "outputId": "969e2021-afd0-4829-a9ac-dbcc866a4879"
      },
      "outputs": [
        {
          "output_type": "stream",
          "name": "stdout",
          "text": [
            "For trained AI 1\n"
          ]
        },
        {
          "output_type": "display_data",
          "data": {
            "text/plain": [
              "<Figure size 432x288 with 1 Axes>"
            ],
            "image/png": "[encoded data removed]"
          },
          "metadata": {
            "needs_background": "light"
          }
        },
        {
          "output_type": "stream",
          "name": "stdout",
          "text": [
            "Satisfy Value is: -954.0\n",
            "Against AI 0\n",
            "0 % done\n",
            "10 % done\n",
            "20 % done\n",
            "30 % done\n",
            "40 % done\n",
            "50 % done\n",
            "60 % done\n",
            "70 % done\n",
            "80 % done\n",
            "90 % done\n",
            "After  120  winners are  [101  19]\n",
            "Against AI 1\n",
            "0 % done\n",
            "10 % done\n",
            "20 % done\n",
            "30 % done\n",
            "40 % done\n",
            "50 % done\n",
            "60 % done\n",
            "70 % done\n",
            "80 % done\n",
            "90 % done\n",
            "After  120  winners are  [70 50]\n",
            "Against AI 2\n",
            "0 % done\n",
            "10 % done\n",
            "20 % done\n",
            "30 % done\n",
            "40 % done\n",
            "50 % done\n",
            "60 % done\n",
            "70 % done\n",
            "80 % done\n",
            "90 % done\n",
            "After  120  winners are  [36 84]\n",
            "For trained AI 1\n"
          ]
        },
        {
          "output_type": "display_data",
          "data": {
            "text/plain": [
              "<Figure size 432x288 with 1 Axes>"
            ],
            "image/png": "[encoded data removed]"
          },
          "metadata": {
            "needs_background": "light"
          }
        },
        {
          "output_type": "stream",
          "name": "stdout",
          "text": [
            "Satisfy Value is: -6.271734\n",
            "Against AI 0\n",
            "0 % done\n",
            "10 % done\n",
            "20 % done\n",
            "30 % done\n",
            "40 % done\n",
            "50 % done\n",
            "60 % done\n",
            "70 % done\n",
            "80 % done\n",
            "90 % done\n",
            "After  120  winners are  [99 21]\n",
            "Against AI 1\n",
            "0 % done\n",
            "10 % done\n",
            "20 % done\n",
            "30 % done\n",
            "40 % done\n",
            "50 % done\n",
            "60 % done\n",
            "70 % done\n",
            "80 % done\n",
            "90 % done\n",
            "After  120  winners are  [53 67]\n",
            "Against AI 2\n",
            "0 % done\n",
            "10 % done\n",
            "20 % done\n",
            "30 % done\n",
            "40 % done\n",
            "50 % done\n",
            "60 % done\n",
            "70 % done\n",
            "80 % done\n",
            "90 % done\n",
            "After  120  winners are  [35 85]\n",
            "For trained AI 1\n"
          ]
        },
        {
          "output_type": "display_data",
          "data": {
            "text/plain": [
              "<Figure size 432x288 with 1 Axes>"
            ],
            "image/png": "[encoded data removed]"
          },
          "metadata": {
            "needs_background": "light"
          }
        },
        {
          "output_type": "stream",
          "name": "stdout",
          "text": [
            "Satisfy Value is: -11.012225\n",
            "Against AI 0\n",
            "0 % done\n",
            "10 % done\n",
            "20 % done\n",
            "30 % done\n",
            "40 % done\n",
            "50 % done\n",
            "60 % done\n",
            "70 % done\n",
            "80 % done\n",
            "90 % done\n",
            "After  120  winners are  [105  15]\n",
            "Against AI 1\n",
            "0 % done\n",
            "10 % done\n",
            "20 % done\n",
            "30 % done\n",
            "40 % done\n",
            "50 % done\n",
            "60 % done\n",
            "70 % done\n",
            "80 % done\n",
            "90 % done\n",
            "After  120  winners are  [65 55]\n",
            "Against AI 2\n",
            "0 % done\n",
            "10 % done\n",
            "20 % done\n",
            "30 % done\n",
            "40 % done\n",
            "50 % done\n",
            "60 % done\n",
            "70 % done\n",
            "80 % done\n",
            "90 % done\n",
            "After  120  winners are  [29 91]\n",
            "For trained AI 1\n"
          ]
        },
        {
          "output_type": "display_data",
          "data": {
            "text/plain": [
              "<Figure size 432x288 with 1 Axes>"
            ],
            "image/png": "[encoded data removed]"
          },
          "metadata": {
            "needs_background": "light"
          }
        },
        {
          "output_type": "stream",
          "name": "stdout",
          "text": [
            "Satisfy Value is: -10.803008\n",
            "Against AI 0\n",
            "0 % done\n",
            "10 % done\n",
            "20 % done\n",
            "30 % done\n",
            "40 % done\n",
            "50 % done\n",
            "60 % done\n",
            "70 % done\n",
            "80 % done\n",
            "90 % done\n",
            "After  120  winners are  [91 29]\n",
            "Against AI 1\n",
            "0 % done\n",
            "10 % done\n",
            "20 % done\n",
            "30 % done\n",
            "40 % done\n",
            "50 % done\n",
            "60 % done\n",
            "70 % done\n",
            "80 % done\n",
            "90 % done\n",
            "After  120  winners are  [66 54]\n",
            "Against AI 2\n",
            "0 % done\n",
            "10 % done\n",
            "20 % done\n",
            "30 % done\n",
            "40 % done\n",
            "50 % done\n",
            "60 % done\n",
            "70 % done\n",
            "80 % done\n",
            "90 % done\n",
            "After  120  winners are  [53 67]\n",
            "For trained AI 1\n"
          ]
        },
        {
          "output_type": "display_data",
          "data": {
            "text/plain": [
              "<Figure size 432x288 with 1 Axes>"
            ],
            "image/png": "[encoded data removed]"
          },
          "metadata": {
            "needs_background": "light"
          }
        },
        {
          "output_type": "stream",
          "name": "stdout",
          "text": [
            "Satisfy Value is: -3.209071\n",
            "Against AI 0\n",
            "0 % done\n",
            "10 % done\n",
            "20 % done\n",
            "30 % done\n",
            "40 % done\n",
            "50 % done\n",
            "60 % done\n",
            "70 % done\n",
            "80 % done\n",
            "90 % done\n",
            "After  120  winners are  [101  19]\n",
            "Against AI 1\n",
            "0 % done\n",
            "10 % done\n",
            "20 % done\n",
            "30 % done\n",
            "40 % done\n",
            "50 % done\n",
            "60 % done\n",
            "70 % done\n",
            "80 % done\n",
            "90 % done\n",
            "After  120  winners are  [63 57]\n",
            "Against AI 2\n",
            "0 % done\n",
            "10 % done\n",
            "20 % done\n",
            "30 % done\n",
            "40 % done\n",
            "50 % done\n",
            "60 % done\n",
            "70 % done\n",
            "80 % done\n",
            "90 % done\n",
            "After  120  winners are  [29 91]\n"
          ]
        }
      ],
      "source": [
        "novel = np.loadtxt('novel.txt', dtype=float)\n",
        "satVal = np.loadtxt('satVal.txt', dtype=float)\n",
        "behaviour = np.loadtxt('behaviour.txt', dtype=float)\n",
        "greedy = np.loadtxt('greedy.txt', dtype=float)\n",
        "evoComp = np.loadtxt('ecMethod.txt', dtype=float)\n",
        "allMadeAIs = [novel,satVal,behaviour,greedy,evoComp]\n",
        "enemyAI = [cantStopCode.pure_random_AI, cantStopCode.random_timid_AI, cantStopCode.runner_weights_AI]\n",
        "for idx2,ai in enumerate(allMadeAIs):\n",
        "  print(f\"For trained AI {idx2}\")\n",
        "  THETA = ai # swaps in our trained AI \n",
        "  visualizeTheta(THETA)\n",
        "  for idx2,enemy in enumerate(enemyAI):\n",
        "    print(f\"Against AI {idx2}\")\n",
        "    cantStopCode.play_N_games(120,[aiDecision,enemy])\n",
        "\n"
      ]
    },
    {
      "cell_type": "markdown",
      "metadata": {
        "id": "gzHd_dXTX_tU"
      },
      "source": [
        "## Greedy did... well?\n",
        "It may be surprising that greedy preformed the best out of our trained AIs and it is. However, this is due to greedy requiring different code to run. In short, it yielded an extremely good result when we didnt include its greedy parameter. Somehow the greedy parameter helped trained the AI but doesnt help in its gameplay. We will be these weights for our AI that only uses a satisfy value and its behaviour profile, since inclusion of greedy leads to the win rates of of: [27 93] against the pure random Ai and _no wins_ against the more advanced AIs. \n",
        "\n"
      ]
    },
    {
      "cell_type": "code",
      "source": [
        "# The deterministic actor\n",
        "def aiChoiceProbabilistic(pState,choices, legal, theta, active = 1, PLAYER_COL_STATE_INIT=jnp.array([3,5,7,9,11,13,11,9,7,5,3])):\n",
        "  # Inputs:\n",
        "  # active_player_index, player_col_state, choices, legal, random_key defined as in the library\n",
        "  # theta = An np array of size (12,) with theta[0:11] being its preferences and theta[10] being its satisfy value\n",
        "  # Outputs:\n",
        "  # choice_index; an integer represetning the chosen option\n",
        "  # roll_again; a bollean; representing if the player ends its turn\n",
        "  scoredOptions = (choices @ theta[0:11]) # scores our current options\n",
        "  greed = (PLAYER_COL_STATE_INIT - pState[active] + choices) @ jnp.reciprocal(PLAYER_COL_STATE_INIT) * theta[12]\n",
        "  thetaToChooseFrom =jnn.softmax(legal*jnp.add(scoredOptions,greed)) # chooses best option that maximizes score \n",
        "  return thetaToChooseFrom\n",
        "\n",
        "# The actor which spits a choice based upon its probability distribution\n",
        "def aiDecision(active_player_index, player_col_state, choices, legal, random_key, theta = THETA, PLAYER_COL_STATE_INIT=jnp.array([3,5,7,9,11,13,11,9,7,5,3])):\n",
        "  # Inputs:\n",
        "  # same as earlier\n",
        "  # Outputs:\n",
        "  # choice_index; an integer represetning the chosen option\n",
        "  # roll_again; a bollean; representing if the player ends its turn\n",
        "  thetaToChooseFrom = aiChoiceProbabilistic(player_col_state,choices,legal,theta,active_player_index)\n",
        "  choice_index =  jnp.argmax(thetaToChooseFrom)\n",
        "  roll_again = random.random() > aiRollProbabilistic(choices, choice_index, theta)[0] # if = 1, then approx 70% to roll again\n",
        "  return (choice_index, roll_again)\n",
        "\n",
        "def visualizeTheta(theta) :\n",
        "  fig = plt.figure()\n",
        "  ax = fig.add_axes([0,0,1,1])\n",
        "  vals = ['2', '3', '4', '5', '6', '7', '8', '9', '10', '11', '12']\n",
        "  ax.bar(vals,theta[0:11])\n",
        "  plt.show()\n",
        "  print(f\"Satisfy Value is: {theta[11]}\")\n",
        "  print(f\"Greedy value is: {theta[12]}\")\n",
        "\n",
        "greedy = np.loadtxt('greedy.txt', dtype=float)\n",
        "THETA = greedy\n",
        "visualizeTheta(THETA)\n",
        "for idx2,enemy in enumerate(enemyAI):\n",
        "  print(f\"Against AI {idx2}\")\n",
        "  cantStopCode.play_N_games(120,[aiDecision,enemy])\n"
      ],
      "metadata": {
        "colab": {
          "base_uri": "https://localhost:8080/",
          "height": 1000
        },
        "id": "hxNjzmfQY0X8",
        "outputId": "49c619ad-6f19-4490-f960-b1a15e86850a"
      },
      "execution_count": null,
      "outputs": [
        {
          "output_type": "display_data",
          "data": {
            "text/plain": [
              "<Figure size 432x288 with 1 Axes>"
            ],
            "image/png": "[encoded data removed]"
          },
          "metadata": {
            "needs_background": "light"
          }
        },
        {
          "output_type": "stream",
          "name": "stdout",
          "text": [
            "Satisfy Value is: -10.803008\n",
            "Greedy value is: 3.581077\n",
            "Against AI 0\n",
            "0 % done\n",
            "10 % done\n",
            "20 % done\n",
            "30 % done\n",
            "40 % done\n",
            "50 % done\n",
            "60 % done\n",
            "70 % done\n",
            "80 % done\n",
            "90 % done\n",
            "After  120  winners are  [27 93]\n",
            "Against AI 1\n",
            "0 % done\n",
            "10 % done\n",
            "20 % done\n",
            "30 % done\n",
            "40 % done\n",
            "50 % done\n",
            "60 % done\n",
            "70 % done\n",
            "80 % done\n",
            "90 % done\n",
            "After  120  winners are  [  0 120]\n",
            "Against AI 2\n",
            "0 % done\n",
            "10 % done\n",
            "20 % done\n",
            "30 % done\n",
            "40 % done\n",
            "50 % done\n",
            "60 % done\n",
            "70 % done\n",
            "80 % done\n",
            "90 % done\n",
            "After  120  winners are  [  0 120]\n"
          ]
        }
      ]
    },
    {
      "cell_type": "markdown",
      "metadata": {
        "id": "7mBeSxiMtd0F"
      },
      "source": [
        "# Our Machine learned AI"
      ]
    },
    {
      "cell_type": "markdown",
      "source": [
        "Here is the single file we will submit. "
      ],
      "metadata": {
        "id": "AByY4gaHKLMh"
      }
    },
    {
      "cell_type": "code",
      "source": [
        "# Outputs the prob dist for choosing columns\n",
        "def aiChoiceProbabilistic(choices, legal, theta):\n",
        "  # Inputs:\n",
        "  # choices, legal, theta as defined earlier\n",
        "  # Outputs:\n",
        "  # thetaToChooseFrom = An np array of size (11,) which is the probability distribution of our AI choosing any of the columns\n",
        "  scoredOptions = (choices @ theta[0:11]) # scores our current options\n",
        "  thetaToChooseFrom =jnn.softmax(legal*scoredOptions) # generates prob dist using softmax\n",
        "  return (thetaToChooseFrom)\n",
        "\n",
        "# Outputs the prob dist for choosing to roll again\n",
        "def aiRollProbabilistic(choices, choice_index, theta):\n",
        "  scoredOptions = (choices @ theta[0:11])\n",
        "  rollAgainChance = (jnp.arctan(scoredOptions[choice_index] - theta[11]) + 1.5)/3# = ~ 0.04 if 3 behind the satisfy value . \n",
        "  return([rollAgainChance, 1 - rollAgainChance])\n",
        "\n",
        "def aiDecision(active_player_index, player_col_state, choices, legal, random_key, theta = THETA, PLAYER_COL_STATE_INIT=jnp.array([3,5,7,9,11,13,11,9,7,5,3])):\n",
        "  # Inputs:\n",
        "  # same as earlier.\n",
        "  # Outputs:\n",
        "  # choice_index; an integer represetning the chosen option\n",
        "  # roll_again; a bollean; representing if the player ends its turn\n",
        "  thetaToChooseFrom = aiChoiceProbabilistic(choices,legal,theta)\n",
        "  choice_index =  jnp.argmax(thetaToChooseFrom)\n",
        "  roll_again = random.random() > aiRollProbabilistic(choices, choice_index, theta)[0] # if = 1, then approx 70% to roll again\n",
        "  return (choice_index, roll_again)\n",
        "\n",
        "\n",
        "THETA = greedy = np.loadtxt('greedy.txt', dtype=float)\n",
        "\n",
        "\n"
      ],
      "metadata": {
        "id": "HZzkLGWVMjoi"
      },
      "execution_count": null,
      "outputs": []
    },
    {
      "cell_type": "markdown",
      "source": [
        "Sanity check to make sure it works"
      ],
      "metadata": {
        "id": "QhoywWmne_Sc"
      }
    },
    {
      "cell_type": "code",
      "source": [
        "# nothing new about this, just helped with running stuff in the jyupter notebook\n",
        "def initTheta(theta, randKey = key, satVal = 2):\n",
        "  theta = jnn.softmax(jrandom.exponential(randKey, shape=(12,)))\n",
        "  theta = theta.at[-1].set(satVal)\n",
        "  return(theta)\n",
        "\n",
        "# nothing new about this, just helped with running stuff in the jyupter notebook\n",
        "def visualizeTheta(theta) :\n",
        "  fig = plt.figure()\n",
        "  ax = fig.add_axes([0,0,1,1])\n",
        "  vals = ['2', '3', '4', '5', '6', '7', '8', '9', '10', '11', '12']\n",
        "  ax.bar(vals,theta[0:11])\n",
        "  plt.show() # behaviour profile\n",
        "  print(theta[11]) # sat val\n",
        "\n",
        "for idx2,enemy in enumerate(enemyAI):\n",
        "  print(f\"Against AI {idx2}\")\n",
        "  cantStopCode.play_N_games(120,[aiDecision,enemy])\n"
      ],
      "metadata": {
        "colab": {
          "base_uri": "https://localhost:8080/"
        },
        "id": "vYRq62I8ewK-",
        "outputId": "28dadddf-5a7c-47a7-d9a7-4cde693c8e41"
      },
      "execution_count": null,
      "outputs": [
        {
          "output_type": "stream",
          "name": "stdout",
          "text": [
            "Against AI 0\n",
            "0 % done\n",
            "10 % done\n",
            "20 % done\n",
            "30 % done\n",
            "40 % done\n",
            "50 % done\n",
            "60 % done\n",
            "70 % done\n",
            "80 % done\n",
            "90 % done\n",
            "After  120  winners are  [102  18]\n",
            "Against AI 1\n",
            "0 % done\n",
            "10 % done\n",
            "20 % done\n",
            "30 % done\n",
            "40 % done\n",
            "50 % done\n",
            "60 % done\n",
            "70 % done\n",
            "80 % done\n",
            "90 % done\n",
            "After  120  winners are  [70 50]\n",
            "Against AI 2\n",
            "0 % done\n",
            "10 % done\n",
            "20 % done\n",
            "30 % done\n",
            "40 % done\n",
            "50 % done\n",
            "60 % done\n",
            "70 % done\n",
            "80 % done\n",
            "90 % done\n",
            "After  120  winners are  [31 89]\n"
          ]
        }
      ]
    },
    {
      "cell_type": "markdown",
      "metadata": {
        "id": "lVr1pJSy0TCd"
      },
      "source": [
        "# Other things we could do, but did not have time for\n"
      ]
    },
    {
      "cell_type": "markdown",
      "metadata": {
        "id": "6XhOoDIDtDxQ"
      },
      "source": [
        "To better run our AI we could have done a large number of things. Each thing will be mentioned, explaining how it _should_ affect the AI and why we chose not to incorporate it.\n",
        "- Vectorization: From our work we found good success against the training AI given after a few hundred sessions. Since this took only a few minutes, we thought there would be no need to vectorize it. If we were to vectorize it, we would need to change our changeTheta function to do some a vector product between our thetas and our gradients. \n",
        "- Learing rate scaling: Normally when you do machine learning, you allow the machine to learng at a variable rate. This represents having faith that your AI will start to converge to some solution after the initial set of updates. This could have even pushed us to do vectorization as we may have needed considerably more runs to train our AI. Though because of the seemingly good optima that is reached in a relatively short number of trianing sessions, we thought there was no need to actually scale our learning rate. (For the evolutionary algorithim this could have come in the form of different mutation types). \n",
        "- Incorporate a critic function: We could have incorporated a critic function to faster training. If implemented, we could have used a 'specalized critic' where we would only look for certain actions and then learn from these. (For example, if our AI went from losing to winning, learng from this turn). This would let us avoid having to change the critic function and would have let us look for certain types of strategies specifically. \n",
        "- Evolutionary algorith self play: We could have had it train against itself, but it would involve changing the simulation again and couple of other tedious changes. Instead, we decided to only play against the enemy AIs as provided in the library. \n",
        "- Evolutionary algorithim better fitness function: We could have generated a better fitness function that just straight win percentages. One of these could have been incorporating how many times one of our AI's was ahead with columns. The rational being if a has more column completed then their enemies for longer, then they are actually playing very well. \n",
        "- Optimizing the evolutionary algorithim: The evolutionary algorithim was pretty succesful at its training but had a ration of 100*1 in terms of time it took to train each episode. This insane increase in time is probably due to operations that are just not optimal that being used. This should have been optimized in some sort of way. For example, the Evo Alg could have looked at the total number of turns an AI was ahead of its opponent for less games, or the physical calculations could have been better implmented.  \n",
        "- Looking at our enemies: We could have explicitly looked at the enemy’s board state. This was technically never done. Mainly as it was planned as an extension to greedy and given greedy's preformance it was scrapped. This is probably the biggest missed change that would have made our AI signifincatly more successful.\n",
        "\n"
      ]
    },
    {
      "cell_type": "code",
      "source": [
        ""
      ],
      "metadata": {
        "id": "8VShhov1K9Vn"
      },
      "execution_count": null,
      "outputs": []
    }
  ],
  "metadata": {
    "colab": {
      "collapsed_sections": [
        "KZsIga4Tpp8Q",
        "mb7plec2qnao",
        "bMB9b2J2rDcD",
        "Dh1mQ9O6rs1l",
        "AmxTgyxEsaBB",
        "rQVhuR0st00v",
        "uwVb_GMEybQ3",
        "z8hzFKngzenr",
        "-sLKkkNp0SAz",
        "Rq2xnSSW0aqd",
        "_DK5m8zp5WWM",
        "4wmzolHp6yKI",
        "ftD8SvdX9Gau",
        "lCs0GHLmDz34",
        "eN7XkDhSJOT-",
        "mTn0xHvALoCI",
        "NvV3aYsbJiGZ",
        "RJzY-ZOpPte4",
        "LcPIgJyTQWTZ",
        "uvaT-ho6QqKI",
        "cSHT55Ojs6Hy",
        "83PG-EXzfVzJ",
        "UV-uWBRQlGea",
        "7M8rtDYClLvn",
        "C7dTI6tLoRI7",
        "ufZbPLJtptUj",
        "r_FedMNk1-P-"
      ],
      "name": "FinalProject Draft 2.ipynb",
      "provenance": []
    },
    "kernelspec": {
      "display_name": "Python 3",
      "name": "python3"
    },
    "language_info": {
      "name": "python"
    }
  },
  "nbformat": 4,
  "nbformat_minor": 0
}